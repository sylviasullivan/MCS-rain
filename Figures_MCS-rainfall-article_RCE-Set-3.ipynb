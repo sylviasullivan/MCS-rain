{
 "cells": [
  {
   "cell_type": "markdown",
   "id": "d1fce1b6",
   "metadata": {},
   "source": [
    "### This notebook generates the CAPE-omega relationships for MCSs in the idealized RCE simulations. First import libraries and constants."
   ]
  },
  {
   "cell_type": "code",
   "execution_count": 1,
   "id": "3a458ad8",
   "metadata": {},
   "outputs": [],
   "source": [
    "import numpy as np\n",
    "from scipy import stats\n",
    "import xarray as xr\n",
    "import matplotlib.pyplot as plt\n",
    "import pandas as pd\n",
    "import warnings\n",
    "from matplotlib import cm\n",
    "import random\n",
    "\n",
    "from scipy.optimize import curve_fit\n",
    "\n",
    "plt.rcParams.update({'font.size': 12})\n",
    "\n",
    "warnings.filterwarnings(action='ignore')\n",
    "\n",
    "from plotting_utilities import *\n",
    "from thermodynamic_functions import *\n",
    "\n",
    "# blue-to-red colormap\n",
    "BR_color_cycle = [\"navy\", \"blue\", \"lightskyblue\", \"tomato\", \"red\", \"darkred\"]"
   ]
  },
  {
   "cell_type": "code",
   "execution_count": 2,
   "id": "db95202b",
   "metadata": {},
   "outputs": [],
   "source": [
    "# parameter values for this script\n",
    "ssts = np.arange( 290, 315, 5 )\n",
    "pc2 = 99\n",
    "nbin = 40\n",
    "font_size = 20\n",
    "sz = 80\n",
    "threshold = 25"
   ]
  },
  {
   "cell_type": "markdown",
   "id": "708f85b2",
   "metadata": {},
   "source": [
    "### Loading RCE data and identifying the 550 hPa level"
   ]
  },
  {
   "cell_type": "code",
   "execution_count": 79,
   "id": "bd85fac6",
   "metadata": {},
   "outputs": [
    {
     "name": "stdout",
     "output_type": "stream",
     "text": [
      "538.855\n",
      "539.1309\n",
      "539.403\n",
      "538.96796\n",
      "539.0249\n",
      "539.02924\n",
      "539.18896\n",
      "539.3419\n",
      "538.855\n",
      "539.1309\n",
      "(526, 64)\n",
      "18.12682 8.691558 4.135805\n"
     ]
    }
   ],
   "source": [
    "path = '/groups/sylvia/JAS-MCS-rain/RCE-postprocessed/all-var-percentile/'\n",
    "mean_RCE, p99_RCE, rad = read_RCE_files( path )\n",
    "\n",
    "# Verifying that 17 is the index closest to 550 hPa\n",
    "for i in np.arange(10):\n",
    "    n = random.randint( 0, mean_RCE[0]['ascent'].shape[1] )\n",
    "    print( mean_RCE[0]['p'][n,17].values )\n",
    "    \n",
    "print( mean_RCE[0]['ascent'].shape )\n",
    "print( np.nanmax(mean_RCE[0]['ascent'][:,17]), np.nanmean(mean_RCE[0]['ascent'][:,17]), np.nanmin(mean_RCE[0]['ascent'][:,17]) )"
   ]
  },
  {
   "cell_type": "code",
   "execution_count": 78,
   "id": "3b03a702",
   "metadata": {},
   "outputs": [
    {
     "name": "stdout",
     "output_type": "stream",
     "text": [
      "526\n",
      "590\n",
      "896\n",
      "930\n",
      "692\n"
     ]
    }
   ],
   "source": [
    "cape_bins_list = [ [] for i in mean_RCE ]\n",
    "ascent_list = [ [] for i in mean_RCE ]\n",
    "ascent_99_list = [ [] for i in mean_RCE ]\n",
    "ascent_error_list = [ [] for i in mean_RCE ]\n",
    "for iterator, array in enumerate( p99_RCE ):\n",
    "    cape_RCE = array['CAPE'].to_numpy()\n",
    "    ascent_RCE = array['omega'][:,17].to_numpy()  # pressure velocities at 550 hPa, multiply by -1 as negative = ascent\n",
    "    ascent_RCE = xr.where( ascent_RCE < 0, -1.*ascent_RCE, np.nan ) # we only want ascent rates\n",
    "    print(len(ascent_RCE))\n",
    "\n",
    "    cape_bins, ascent_vals, _, ascent_99_vals, _, ascent_error, _, _ = \\\n",
    "        bin_stat_function( nbin, np.nanmin(cape_RCE), np.nanpercentile(cape_RCE,99), cape_RCE, ascent_RCE, pc2=pc2, threshold=threshold ) #20000 as upper bound for max_RCE\n",
    "    \n",
    "    cape_bins_list[iterator] = cape_bins\n",
    "    ascent_list[iterator] = ascent_vals\n",
    "    ascent_99_list[iterator] = ascent_99_vals\n",
    "    ascent_error_list[iterator] = ascent_error"
   ]
  },
  {
   "cell_type": "markdown",
   "id": "334d1135",
   "metadata": {},
   "source": [
    "### Filter the scaling of CAPE and omega for different MCS extents"
   ]
  },
  {
   "cell_type": "code",
   "execution_count": 75,
   "id": "d3dbb73f",
   "metadata": {},
   "outputs": [],
   "source": [
    "cape_RCE = RCE_concat( mean_RCE, 'CAPE' )\n",
    "omega_RCE = -1.*RCE_concat( mean_RCE, 'omega' )\n",
    "omega_RCE = xr.where( omega_RCE[:,17] > 0, omega_RCE[:,17], np.nan ) # we only want ascent rates\n",
    "rad_RCE = np.concatenate( [r for r in rad], axis=0 )\n",
    "unit = np.sqrt( np.nanpercentile(cape_RCE,99) )/4.\n",
    "\n",
    "loo = np.percentile( rad_RCE, 25 )\n",
    "upp = np.percentile( rad_RCE, 75 )\n",
    "cape_bins_all, ascent_vals_all, _, ascent99_vals_all, _, _, _, _ = \\\n",
    "        bin_stat_function( nbin, np.nanmin(cape_RCE), np.nanpercentile(cape_RCE,99), cape_RCE, omega_RCE, pc2=pc2, threshold=threshold )\n",
    "cape_bins_small, ascent_vals_small, _, ascent99_vals_small, _, _, _, _ = \\\n",
    "        bin_stat_function( nbin, np.nanmin(cape_RCE[rad_RCE<=loo]), np.nanpercentile(cape_RCE,99), cape_RCE[rad_RCE<=loo],\n",
    "                          omega_RCE[rad_RCE<=loo], pc2=pc2, threshold=10 )\n",
    "cape_bins_large, ascent_vals_large, _, ascent99_vals_large, _, _, _, _ = \\\n",
    "        bin_stat_function( nbin, np.nanmin(cape_RCE[rad_RCE>=upp]), np.nanpercentile(cape_RCE,99), cape_RCE[rad_RCE>=upp],\n",
    "                           omega_RCE[rad_RCE>=upp], pc2=pc2, threshold=10 )"
   ]
  },
  {
   "cell_type": "markdown",
   "id": "5d77fb95",
   "metadata": {},
   "source": [
    "### Plot the ascent rate versus CAPE"
   ]
  },
  {
   "cell_type": "code",
   "execution_count": 76,
   "id": "b9c5336b",
   "metadata": {},
   "outputs": [],
   "source": [
    "def squared(x):\n",
    "    return x**2\n",
    "\n",
    "def sqrt(x):\n",
    "    return np.sqrt(x)"
   ]
  },
  {
   "cell_type": "code",
   "execution_count": 77,
   "id": "ecf79777",
   "metadata": {},
   "outputs": [
    {
     "ename": "ValueError",
     "evalue": "Inputs must not be empty.",
     "output_type": "error",
     "traceback": [
      "\u001b[0;31m---------------------------------------------------------------------------\u001b[0m",
      "\u001b[0;31mValueError\u001b[0m                                Traceback (most recent call last)",
      "Input \u001b[0;32mIn [77]\u001b[0m, in \u001b[0;36m<cell line: 16>\u001b[0;34m()\u001b[0m\n\u001b[1;32m     28\u001b[0m axis\u001b[38;5;241m.\u001b[39mscatter( np\u001b[38;5;241m.\u001b[39msqrt(j), k, color \u001b[38;5;241m=\u001b[39m BR_color_cycle[l], s\u001b[38;5;241m=\u001b[39msz, edgecolor\u001b[38;5;241m=\u001b[39m\u001b[38;5;124m'\u001b[39m\u001b[38;5;124mblack\u001b[39m\u001b[38;5;124m'\u001b[39m, label\u001b[38;5;241m=\u001b[39m\u001b[38;5;28mstr\u001b[39m(ssts[l])\u001b[38;5;241m+\u001b[39m\u001b[38;5;124m'\u001b[39m\u001b[38;5;124m K\u001b[39m\u001b[38;5;124m'\u001b[39m  )\n\u001b[1;32m     29\u001b[0m axis\u001b[38;5;241m.\u001b[39merrorbar( np\u001b[38;5;241m.\u001b[39msqrt(j), k, xerr\u001b[38;5;241m=\u001b[39m\u001b[38;5;28;01mNone\u001b[39;00m, yerr\u001b[38;5;241m=\u001b[39mm\u001b[38;5;241m/\u001b[39m\u001b[38;5;241m2\u001b[39m, color \u001b[38;5;241m=\u001b[39m BR_color_cycle[l], ls\u001b[38;5;241m=\u001b[39m\u001b[38;5;124m'\u001b[39m\u001b[38;5;124mnone\u001b[39m\u001b[38;5;124m'\u001b[39m, zorder\u001b[38;5;241m=\u001b[39m\u001b[38;5;241m-\u001b[39m\u001b[38;5;241m1\u001b[39m, alpha\u001b[38;5;241m=\u001b[39m\u001b[38;5;241m0.75\u001b[39m )\n\u001b[0;32m---> 30\u001b[0m out, y_predicted, x_input, _ \u001b[38;5;241m=\u001b[39m \u001b[43mlinindx\u001b[49m\u001b[43m(\u001b[49m\u001b[43m \u001b[49m\u001b[43mnp\u001b[49m\u001b[38;5;241;43m.\u001b[39;49m\u001b[43msqrt\u001b[49m\u001b[43m(\u001b[49m\u001b[43mj\u001b[49m\u001b[43m)\u001b[49m\u001b[43m,\u001b[49m\u001b[43m \u001b[49m\u001b[43mk\u001b[49m\u001b[43m \u001b[49m\u001b[43m)\u001b[49m\n\u001b[1;32m     31\u001b[0m \u001b[38;5;28mprint\u001b[39m(out\u001b[38;5;241m.\u001b[39mslope)\n\u001b[1;32m     32\u001b[0m axis\u001b[38;5;241m.\u001b[39mplot( x_input, y_predicted, color\u001b[38;5;241m=\u001b[39mBR_color_cycle[l], linewidth\u001b[38;5;241m=\u001b[39m\u001b[38;5;241m2\u001b[39m, zorder\u001b[38;5;241m=\u001b[39m\u001b[38;5;241m10\u001b[39m )\n",
      "File \u001b[0;32m/groups/sylvia/JAS-MCS-rain/plotting_utilities.py:73\u001b[0m, in \u001b[0;36mlinindx\u001b[0;34m(x, y)\u001b[0m\n\u001b[1;32m     71\u001b[0m i \u001b[38;5;241m=\u001b[39m np\u001b[38;5;241m.\u001b[39margwhere( \u001b[38;5;241m~\u001b[39mnp\u001b[38;5;241m.\u001b[39misnan(x) \u001b[38;5;241m&\u001b[39m \u001b[38;5;241m~\u001b[39mnp\u001b[38;5;241m.\u001b[39misnan(y) \u001b[38;5;241m&\u001b[39m (zscores \u001b[38;5;241m<\u001b[39m \u001b[38;5;241m2\u001b[39m) )\n\u001b[1;32m     72\u001b[0m x_input \u001b[38;5;241m=\u001b[39m x[i[:,\u001b[38;5;241m0\u001b[39m]]\n\u001b[0;32m---> 73\u001b[0m out \u001b[38;5;241m=\u001b[39m \u001b[43mstats\u001b[49m\u001b[38;5;241;43m.\u001b[39;49m\u001b[43mlinregress\u001b[49m\u001b[43m(\u001b[49m\u001b[43m \u001b[49m\u001b[43mx\u001b[49m\u001b[38;5;241;43m=\u001b[39;49m\u001b[43mx\u001b[49m\u001b[43m[\u001b[49m\u001b[43mi\u001b[49m\u001b[43m[\u001b[49m\u001b[43m:\u001b[49m\u001b[43m,\u001b[49m\u001b[38;5;241;43m0\u001b[39;49m\u001b[43m]\u001b[49m\u001b[43m]\u001b[49m\u001b[43m,\u001b[49m\u001b[43m \u001b[49m\u001b[43my\u001b[49m\u001b[38;5;241;43m=\u001b[39;49m\u001b[43my\u001b[49m\u001b[43m[\u001b[49m\u001b[43mi\u001b[49m\u001b[43m[\u001b[49m\u001b[43m:\u001b[49m\u001b[43m,\u001b[49m\u001b[38;5;241;43m0\u001b[39;49m\u001b[43m]\u001b[49m\u001b[43m]\u001b[49m\u001b[43m \u001b[49m\u001b[43m)\u001b[49m\n\u001b[1;32m     74\u001b[0m y_predicted \u001b[38;5;241m=\u001b[39m x_input\u001b[38;5;241m*\u001b[39mout\u001b[38;5;241m.\u001b[39mslope \u001b[38;5;241m+\u001b[39m out\u001b[38;5;241m.\u001b[39mintercept\n\u001b[1;32m     75\u001b[0m \u001b[38;5;28;01mreturn\u001b[39;00m out, y_predicted, x_input, zscores\n",
      "File \u001b[0;32m/opt/ohpc/pub/apps/anaconda/2022.05/lib/python3.9/site-packages/scipy/stats/_stats_mstats_common.py:146\u001b[0m, in \u001b[0;36mlinregress\u001b[0;34m(x, y, alternative)\u001b[0m\n\u001b[1;32m    143\u001b[0m     y \u001b[38;5;241m=\u001b[39m np\u001b[38;5;241m.\u001b[39masarray(y)\n\u001b[1;32m    145\u001b[0m \u001b[38;5;28;01mif\u001b[39;00m x\u001b[38;5;241m.\u001b[39msize \u001b[38;5;241m==\u001b[39m \u001b[38;5;241m0\u001b[39m \u001b[38;5;129;01mor\u001b[39;00m y\u001b[38;5;241m.\u001b[39msize \u001b[38;5;241m==\u001b[39m \u001b[38;5;241m0\u001b[39m:\n\u001b[0;32m--> 146\u001b[0m     \u001b[38;5;28;01mraise\u001b[39;00m \u001b[38;5;167;01mValueError\u001b[39;00m(\u001b[38;5;124m\"\u001b[39m\u001b[38;5;124mInputs must not be empty.\u001b[39m\u001b[38;5;124m\"\u001b[39m)\n\u001b[1;32m    148\u001b[0m n \u001b[38;5;241m=\u001b[39m \u001b[38;5;28mlen\u001b[39m(x)\n\u001b[1;32m    149\u001b[0m xmean \u001b[38;5;241m=\u001b[39m np\u001b[38;5;241m.\u001b[39mmean(x, \u001b[38;5;28;01mNone\u001b[39;00m)\n",
      "\u001b[0;31mValueError\u001b[0m: Inputs must not be empty."
     ]
    },
    {
     "data": {
      "image/png": "[encoded data removed]",
      "text/plain": [
       "<Figure size 792x648 with 4 Axes>"
      ]
     },
     "metadata": {
      "needs_background": "light"
     },
     "output_type": "display_data"
    }
   ],
   "source": [
    "fig, ax = plt.subplots( 2, 2, figsize =(11, 9) )\n",
    "\n",
    "ylab = [ r'-$<\\omega_{550}^{(-)}>$ [Pa s$^{-1}$]', r'-$\\omega_{550,99}^{(-)}$ [Pa s$^{-1}$]',\n",
    "         r'-$<\\omega_{550}^{(-)}>$ [Pa s$^{-1}$]', r'-$\\omega_{550,99}^{(-)}$ [Pa s$^{-1}$]' ]\n",
    "labels = [ '', '' , r'(CAPE)$^{1/2}$ [(J kg$^{-1})^{1/2}$]', '(CAPE)$^{1/2}$ [(J kg$^{-1})^{1/2}$]' ]\n",
    "let = [ 'a', 'b', 'c', 'd' ]\n",
    "plt.rcParams.update({\n",
    "    'font.size':font_size,\n",
    "    'axes.labelsize':font_size+2,\n",
    "    'xtick.labelsize':font_size,\n",
    "    'ytick.labelsize':font_size,\n",
    "    'legend.fontsize':font_size,\n",
    "})\n",
    "cape_array = np.linspace( 15, 65, 50 )\n",
    "\n",
    "for i, axis in enumerate(ax.flatten()): \n",
    "    axis.set( ylabel = ylab[i] )\n",
    "    axis.set_xlim( [10, 70] )\n",
    "    axis.spines['top'].set_visible( False )\n",
    "    axis.spines['right'].set_visible( False )\n",
    "    axis.set( xlabel = labels[i] )\n",
    "    for t in axis.get_yticklabels():\n",
    "        t.set_rotation(45)\n",
    "    \n",
    "    axis.text( 0.05, 0.96, let[i], weight='bold', style='italic', fontsize=font_size+2, transform=axis.transAxes )\n",
    "    if i == 0:\n",
    "        for j, k, l, m in zip(cape_bins_list, ascent_list, np.arange(len(cape_bins_list)), ascent_error_list):\n",
    "            axis.scatter( np.sqrt(j), k, color = BR_color_cycle[l], s=sz, edgecolor='black', label=str(ssts[l])+' K'  )\n",
    "            axis.errorbar( np.sqrt(j), k, xerr=None, yerr=m/2, color = BR_color_cycle[l], ls='none', zorder=-1, alpha=0.75 )\n",
    "            out, y_predicted, x_input, _ = linindx( np.sqrt(j), k )\n",
    "            print(out.slope)\n",
    "            axis.plot( x_input, y_predicted, color=BR_color_cycle[l], linewidth=2, zorder=10 )\n",
    "        #axis.legend( loc='upper left', ncol=2, frameon=False, fontsize=16, columnspacing=0.4, handletextpad=0.05 )\n",
    "        axis.set_ylim( [0,2.5] )\n",
    "        \n",
    "    elif i == 1:\n",
    "        for j, k, l in zip(cape_bins_list, ascent_99_list, np.arange(len(cape_bins_list))):\n",
    "            axis.scatter( np.sqrt(j), k, color = BR_color_cycle[l], s=sz, edgecolor='black', label=str(ssts[l])+' K' )\n",
    "            out, y_predicted, x_input, _ = linindx( np.sqrt(j), k )\n",
    "            axis.plot( x_input, y_predicted, color=BR_color_cycle[l], linewidth=2, zorder=10 )\n",
    "        axis.legend( ncol=2, loc='upper left', frameon=False, fontsize=16, columnspacing=0.4, bbox_to_anchor=(0.5,0.5),\n",
    "                    handletextpad=0.05 )\n",
    "        axis.set_ylim( [0,5.5] )\n",
    "        \n",
    "    elif i == 2:\n",
    "        axis.scatter( np.sqrt(cape_bins_all), ascent_vals_all, s=sz, color='darkblue', edgecolor='k' )\n",
    "        out, y_predicted, x_input, _ = linindx( np.sqrt(cape_bins_all), ascent_vals_all )\n",
    "        axis.plot( x_input, y_predicted, color='darkblue', linewidth=2, zorder=10 )\n",
    "        axis.text( 0.05, 0.7, r\"$m$ = \" + f\"{out.slope:.3f}\" + r\" Pa s$^{-1}$ / \" + \"\\n\" + \"(J kg$^{-1}$)\", color='darkblue',\n",
    "                  fontsize=font_size-2, transform=axis.transAxes )\n",
    "        \n",
    "        axis.scatter( np.sqrt(cape_bins_small), ascent_vals_small, s=sz, color='gold', edgecolor='k' )\n",
    "        out, y_predicted, x_input, _ = linindx( np.sqrt(cape_bins_small), ascent_vals_small )\n",
    "        axis.plot( x_input, y_predicted, color='gold', linewidth=2, zorder=10 )\n",
    "        axis.text( 0.05, 0.6, r\"$m$ = \" + f\"{out.slope:.3f}\", color='gold',\n",
    "                  fontsize=font_size-2, transform=axis.transAxes )\n",
    "        \n",
    "        axis.scatter( np.sqrt(cape_bins_large), ascent_vals_large, s=sz, color='darkorange', edgecolor='k' )\n",
    "        out, y_predicted, x_input, _ = linindx( np.sqrt(cape_bins_large), ascent_vals_large )\n",
    "        axis.plot( x_input, y_predicted, color='darkorange', linewidth=2, zorder=10 )\n",
    "        axis.text( 0.05, 0.1, r\"$m$ = \" + f\"{out.slope:.3f}\", color='darkorange',\n",
    "                  fontsize=font_size-2, transform=axis.transAxes )\n",
    "        \n",
    "        ax2 = axis.secondary_xaxis( -0.4, functions=(squared, sqrt) )\n",
    "        ax2.set_xticks( [0, 400, 1600, 3600] )\n",
    "        ax2.set_xlabel( r'CAPE [J kg$^{-1}$]', fontsize=font_size )\n",
    "        axis.set_ylim( [0,2.5] )\n",
    "        \n",
    "    else:\n",
    "        axis.scatter( np.sqrt(cape_bins_all), ascent99_vals_all, s=sz, color='darkblue', edgecolor='k' )\n",
    "        out, y_predicted, x_input, _ = linindx( np.sqrt(cape_bins_all), ascent99_vals_all )\n",
    "        print(out)\n",
    "        axis.plot( cape_array, out.slope*cape_array + out.intercept, color='darkblue', linewidth=2, zorder=10 )\n",
    "        axis.text( 0.05, 0.7, r\"$m$ = \" + f\"{out.slope:.2f}\" + r\" Pa s$^{-1}$ / \" + \"\\n\" + \"(J kg$^{-1}$)\", color='darkblue',\n",
    "                  fontsize=font_size-2, transform=axis.transAxes )\n",
    "        #print(out.slope, out.rvalue, out.pvalue)\n",
    "        \n",
    "        axis.scatter( np.sqrt(cape_bins_small), ascent99_vals_small, s=sz, color='gold', edgecolor='k' )\n",
    "        out, y_predicted, x_input, _ = linindx( np.sqrt(cape_bins_small), ascent99_vals_small )\n",
    "        axis.plot( x_input, y_predicted, color='gold', linewidth=2, zorder=10 )\n",
    "        axis.text( 0.05, 0.2, r\"$m$ = \" + f\"{out.slope:.2f}\", color='gold',\n",
    "                  fontsize=font_size-2, transform=axis.transAxes )\n",
    "        #print(out.slope, out.rvalue, out.pvalue)\n",
    "        \n",
    "        axis.scatter( np.sqrt(cape_bins_large), ascent99_vals_large, s=sz, color='darkorange', edgecolor='k' )\n",
    "        out, y_predicted, x_input, _ = linindx( np.sqrt(cape_bins_large), ascent99_vals_large )\n",
    "        axis.plot( x_input, y_predicted, color='darkorange', linewidth=2, zorder=10 )\n",
    "        axis.text( 0.05, 0.1, r\"$m$ = \" + f\"{out.slope:.2f}\", color='darkorange',\n",
    "                  fontsize=font_size-2, transform=axis.transAxes )\n",
    "        #print(out.slope, out.rvalue, out.pvalue)\n",
    "                \n",
    "        ax2 = axis.secondary_xaxis( -0.4, functions=(squared, sqrt) )\n",
    "        ax2.set_xticks( [0, 400, 1600, 3600] )\n",
    "        ax2.set_xlabel( r'CAPE [J kg$^{-1}$]', fontsize=font_size )\n",
    "        axis.set_ylim( [0,5.5] )\n",
    "            \n",
    "plt.tight_layout()\n",
    "#\"fig.savefig( '/groups/sylvia/JAS-MCS-rain/figures/cape-ascent-RCE.pdf', bbox_inches='tight' )\n",
    "plt.show()"
   ]
  },
  {
   "cell_type": "code",
   "execution_count": null,
   "id": "b3ff8467",
   "metadata": {},
   "outputs": [],
   "source": []
  }
 ],
 "metadata": {
  "kernelspec": {
   "display_name": "ncplot",
   "language": "python",
   "name": "ncplot"
  },
  "language_info": {
   "codemirror_mode": {
    "name": "ipython",
    "version": 3
   },
   "file_extension": ".py",
   "mimetype": "text/x-python",
   "name": "python",
   "nbconvert_exporter": "python",
   "pygments_lexer": "ipython3",
   "version": "3.9.12"
  }
 },
 "nbformat": 4,
 "nbformat_minor": 5
}
