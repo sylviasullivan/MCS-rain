{
 "cells": [
  {
   "cell_type": "code",
   "execution_count": 1,
   "id": "e4b2bca8",
   "metadata": {},
   "outputs": [],
   "source": [
    "import numpy as np\n",
    "import scipy as sp\n",
    "import xarray as xr\n",
    "import matplotlib.pyplot as plt\n",
    "import pandas as pd\n",
    "import warnings\n",
    "import numpy.ma as ma\n",
    "import seaborn as sns\n",
    "import scipy.optimize\n",
    "from matplotlib import cm\n",
    "from numpy import unravel_index\n",
    "from scipy.stats import ks_2samp\n",
    "\n",
    "plt.rcParams.update({'font.size': 12})\n",
    "\n",
    "warnings.filterwarnings(action='ignore')\n",
    "\n",
    "from plotting_utilities import *\n",
    "from thermodynamic_functions import *"
   ]
  },
  {
   "cell_type": "markdown",
   "id": "cfeaa6ea",
   "metadata": {},
   "source": [
    "### Load necessary tracking and RCE data"
   ]
  },
  {
   "cell_type": "code",
   "execution_count": 2,
   "id": "328e03ae",
   "metadata": {},
   "outputs": [],
   "source": [
    "# array of years\n",
    "years = np.arange( 1983, 2008 )\n",
    "\n",
    "# create list of file names\n",
    "file_years = file_concatenator(years)\n",
    "\n",
    "# Are we only looking at tropical MCSs?\n",
    "minlat_array = nc_open_compile(file_years,\"min latitude\")\n",
    "maxlat_array = nc_open_compile(file_years,\"max latitude\")\n",
    "pmax_array = nc_open_compile(file_years,\"pmax\")\n",
    "\n",
    "tropical_indx = np.argwhere( (minlat_array >= -10) & (maxlat_array <= 10) & (pmax_array >= 10**(-1)))[:,0]"
   ]
  },
  {
   "cell_type": "code",
   "execution_count": 3,
   "id": "ef859f93",
   "metadata": {},
   "outputs": [],
   "source": [
    "rad_array = nc_open_compile(file_years,\"rad\")\n",
    "rad_ERAI = negative_to_nan(rad_array)[tropical_indx]\n",
    "pmax_array = nc_open_compile(file_years,\"pmax\")\n",
    "pmax_ERAI = negative_to_nan(pmax_array)[tropical_indx]"
   ]
  },
  {
   "cell_type": "code",
   "execution_count": 4,
   "id": "7581aef5",
   "metadata": {},
   "outputs": [],
   "source": [
    "path = '/groups/sylvia/JAS-MCS-rain/RCE-postprocessed/'\n",
    "ssts = np.arange( 290, 316, 5 )\n",
    "means, p99s, rad = read_RCE_files( path )\n",
    "pmean_RCE = RCE_concat( means, 'p_rate' )\n",
    "rad_RCE = np.concatenate( [r for r in rad], axis=0 )"
   ]
  },
  {
   "cell_type": "markdown",
   "id": "0af540a3",
   "metadata": {},
   "source": [
    "### Plot precipitation intensity filtered by MCS extent"
   ]
  },
  {
   "cell_type": "code",
   "execution_count": 5,
   "id": "28a3c0ed",
   "metadata": {},
   "outputs": [
    {
     "data": {
      "image/png": "[encoded data removed]",
      "text/plain": [
       "<Figure size 792x306 with 2 Axes>"
      ]
     },
     "metadata": {
      "needs_background": "light"
     },
     "output_type": "display_data"
    }
   ],
   "source": [
    "fig, ax = plt.subplots( nrows=1, ncols=2, figsize=(11,4.25), constrained_layout=True )\n",
    "lw = 3\n",
    "fs = 18\n",
    "nbin = 60\n",
    "\n",
    "wgts = np.ones_like(pmax_ERAI)/float(len(pmax_ERAI))*100.\n",
    "ax[0].hist( pmax_ERAI, bins=np.logspace(-3,2,nbin), weights=wgts, histtype=u'step', lw=lw, color='darkblue' )\n",
    "ax[0].plot( [np.nanmean(pmax_ERAI), np.nanmean(pmax_ERAI)], [0.5,3], lw=lw, color='darkblue' )\n",
    "upp = np.percentile( rad_ERAI, 75 )\n",
    "wgts = np.ones_like(pmax_ERAI[rad_ERAI >= upp])/float(len(pmax_ERAI[rad_ERAI >= upp]))*100.\n",
    "ax[0].hist( pmax_ERAI[rad_ERAI >= upp], bins=np.logspace(-3,2,nbin), weights=wgts, histtype='step', lw=lw, color='darkorange' )\n",
    "ax[0].plot( [np.nanmean(pmax_ERAI[rad_ERAI >= upp]), np.nanmean(pmax_ERAI[rad_ERAI >= upp])], [0.5,3], lw=lw, color='darkorange' )\n",
    "loo = np.percentile( rad_ERAI, 25 )\n",
    "wgts = np.ones_like(pmax_ERAI[rad_ERAI <= loo])/float(len(pmax_ERAI[rad_ERAI <= loo]))*100.\n",
    "ax[0].hist( pmax_ERAI[rad_ERAI <= loo], bins=np.logspace(-3,2,nbin), weights=wgts, histtype='step', lw=lw, color='gold' )\n",
    "ax[0].plot( [np.nanmean(pmax_ERAI[rad_ERAI <= loo]), np.nanmean(pmax_ERAI[rad_ERAI <= loo])], [0.5,3], lw=lw, color='gold' )\n",
    "ax[0].set_ylabel( 'Probability [%]', fontsize=fs )\n",
    "ax[0].text( 0.02, 0.85, r\"$<\\dot{P}>, \\dot{P}_{99}$=\" + f\"{np.nanmean(pmax_ERAI):.3}\" + ', ' +\n",
    "           f\"{np.nanpercentile(pmax_ERAI,99):.3}\" + r' mm h$^{-1}$', color='darkblue', fontsize=fs, transform=ax[0].transAxes)\n",
    "ax[0].text( 0.02, 0.75, r\"$<\\dot{P}>$=\" + f\"{np.nanmean(pmax_ERAI[rad_ERAI<=loo]):.3}\" + ', ' +\n",
    "           f\"{np.nanpercentile(pmax_ERAI[rad_ERAI<=loo],99):.3}\" , color='gold', fontsize=fs, transform=ax[0].transAxes)\n",
    "ax[0].text( 0.02, 0.65, r\"$<\\dot{P}>$=\" + f\"{np.nanmean(pmax_ERAI[rad_ERAI>=upp]):.3}\" + ', ' +\n",
    "           f\"{np.nanpercentile(pmax_ERAI[rad_ERAI>=upp],99):.3}\", color='darkorange', fontsize=fs, transform=ax[0].transAxes)\n",
    "ax[0].set_xlim([10**(-3.5),1])\n",
    "ax[0].text( 0.05, 0.97, 'a', weight='bold', style='italic', fontsize=fs+6, transform=ax[0].transAxes )\n",
    "\n",
    "wgts = np.ones_like(pmean_RCE)/float(len(pmean_RCE))*100.\n",
    "ax[1].hist( pmean_RCE, bins=np.logspace(-3,2,nbin), weights=wgts, lw=lw, color='darkblue', histtype=u'step' )\n",
    "ax[1].plot( [np.nanmean(pmean_RCE), np.nanmean(pmean_RCE)], [0.5,3], lw=lw, color='darkblue' )\n",
    "upp = np.percentile( rad_RCE, 75 )\n",
    "wgts = np.ones_like(pmean_RCE[rad_RCE >= upp])/float(len(pmean_RCE[rad_RCE >= upp]))*100.\n",
    "ax[1].hist( pmean_RCE[rad_RCE >= upp], bins=np.logspace(-3,2,nbin), lw=lw, color='darkorange', weights=wgts, histtype='step' )\n",
    "ax[1].plot( [np.nanmean(pmean_RCE[rad_RCE >= upp]), np.nanmean(pmean_RCE[rad_RCE >= upp])], [0.5,3], lw=lw, color='darkorange' )\n",
    "loo = np.percentile( rad_RCE, 25 )\n",
    "wgts = np.ones_like(pmean_RCE[rad_RCE <= loo])/float(len(pmean_RCE[rad_RCE <= loo]))*100.\n",
    "ax[1].hist( pmean_RCE[rad_RCE <= loo], bins=np.logspace(-3,2,nbin), weights=wgts, histtype='step', lw=lw, color='gold' )\n",
    "ax[1].text( 0.05, 0.97, 'b', weight='bold', style='italic', fontsize=fs+6, transform=ax[1].transAxes )\n",
    "ax[1].plot( [np.nanmean(pmean_RCE[rad_RCE <= loo]), np.nanmean(pmean_RCE[rad_RCE <= loo])], [0.5,3], lw=lw, color='gold' )\n",
    "ax[1].text( 0.02, 0.85, r\"$<\\dot{P}>, \\dot{P}_{99}$=\" + f\"{np.nanmean(pmean_RCE):.3}\" + \", \" +\n",
    "           f\"{np.nanpercentile(pmean_RCE,99):.4}\" + r' mm h$^{-1}$', color='darkblue', fontsize=fs, transform=ax[1].transAxes)\n",
    "ax[1].text( 0.02, 0.75, r\"$<\\dot{P}>$=\" + f\"{np.nanmean(pmean_RCE[rad_RCE<=loo]):.3}\" + \", \"\n",
    "           f\"{np.nanpercentile(pmean_RCE[rad_RCE<=loo],99):.4}\", color='gold', fontsize=fs, transform=ax[1].transAxes)\n",
    "ax[1].text( 0.02, 0.65, r\"$<\\dot{P}>$=\" + f\"{np.nanmean(pmean_RCE[rad_RCE>=upp]):.3}\" + \", \"\n",
    "           f\"{np.nanpercentile(pmean_RCE[rad_RCE>=upp],99):.4}\", color='darkorange', fontsize=fs, transform=ax[1].transAxes)\n",
    "ax[1].set_xscale( 'log' )\n",
    "\n",
    "for a in ax:\n",
    "    a.set_xlim([0.1,120])\n",
    "    a.set_xlabel( r'Precipitation Intensity [mm h$^{-1}$]', fontsize=fs )\n",
    "    a.spines['top'].set_visible(False)\n",
    "    a.spines['right'].set_visible(False)\n",
    "    a.tick_params( 'both', labelsize=18 )\n",
    "    a.tick_params( 'y', rotation=45 )\n",
    "    a.set_xscale( 'log' )\n",
    "    a.set_ylim([0,10])\n",
    "    a.set_yticks( [2, 4, 6, 8] )\n",
    "    \n",
    "#fig.savefig( '/groups/sylvia/JAS-MCS-rain/figures/precip-intensity-clustering_p99s.pdf', bbox_inches='tight' )\n",
    "plt.show()"
   ]
  },
  {
   "cell_type": "markdown",
   "id": "4b7c9cbc",
   "metadata": {},
   "source": [
    "### Histogram of saturation deficit for all, small, and large MCSs in RCE output"
   ]
  },
  {
   "cell_type": "code",
   "execution_count": 6,
   "id": "e0707a4e",
   "metadata": {},
   "outputs": [
    {
     "name": "stdout",
     "output_type": "stream",
     "text": [
      "1.5494441\n",
      "1.5106008\n",
      "1.6838832\n"
     ]
    },
    {
     "data": {
      "image/png": "[encoded data removed]",
      "text/plain": [
       "<Figure size 432x288 with 1 Axes>"
      ]
     },
     "metadata": {
      "needs_background": "light"
     },
     "output_type": "display_data"
    }
   ],
   "source": [
    "sd_RCE = RCE_concat( p99s, 'SD' )\n",
    "nbin = 20\n",
    "sdupper = 6\n",
    "fig = plt.figure()\n",
    "wgts = np.ones_like(sd_RCE)/float(len(sd_RCE))*100.\n",
    "upp = np.percentile( rad_RCE, 75 )\n",
    "loo = np.percentile( rad_RCE, 25 )\n",
    "plt.hist( sd_RCE, bins=np.linspace(0,sdupper,nbin), weights=wgts, histtype=u'step', lw=lw, color='darkblue' )\n",
    "print(np.nanmean(sd_RCE))\n",
    "\n",
    "wgts = np.ones_like(sd_RCE[rad_RCE >= upp])/float(len(sd_RCE[rad_RCE >= upp]))*100.\n",
    "plt.hist( sd_RCE[rad_RCE >= upp], bins=np.linspace(0,sdupper,nbin), weights=wgts, histtype=u'step', lw=lw, color='darkorange' )\n",
    "print(np.nanmean(sd_RCE[rad_RCE >= upp]))\n",
    "\n",
    "wgts = np.ones_like(sd_RCE[rad_RCE <= loo])/float(len(sd_RCE[rad_RCE <= loo]))*100.\n",
    "plt.hist( sd_RCE[rad_RCE <= loo], bins=np.linspace(0,sdupper,nbin), weights=wgts, histtype=u'step', lw=lw, color='gold' )\n",
    "print(np.nanmean(sd_RCE[rad_RCE <= loo]))"
   ]
  },
  {
   "cell_type": "markdown",
   "id": "cac64b47",
   "metadata": {},
   "source": [
    "### Histogram of specific humidity for all, small, and large MCSs in RCE output"
   ]
  },
  {
   "cell_type": "code",
   "execution_count": 1,
   "id": "f6ff12b4",
   "metadata": {},
   "outputs": [
    {
     "ename": "NameError",
     "evalue": "name 'RCE_concat' is not defined",
     "output_type": "error",
     "traceback": [
      "\u001b[0;31m---------------------------------------------------------------------------\u001b[0m",
      "\u001b[0;31mNameError\u001b[0m                                 Traceback (most recent call last)",
      "Input \u001b[0;32mIn [1]\u001b[0m, in \u001b[0;36m<cell line: 1>\u001b[0;34m()\u001b[0m\n\u001b[0;32m----> 1\u001b[0m qv_RCE \u001b[38;5;241m=\u001b[39m \u001b[43mRCE_concat\u001b[49m( p99s, \u001b[38;5;124m'\u001b[39m\u001b[38;5;124mQV\u001b[39m\u001b[38;5;124m'\u001b[39m )\n\u001b[1;32m      2\u001b[0m qv_RCE_sum \u001b[38;5;241m=\u001b[39m np\u001b[38;5;241m.\u001b[39mnansum( qv_RCE, axis\u001b[38;5;241m=\u001b[39m\u001b[38;5;241m1\u001b[39m )\n\u001b[1;32m      4\u001b[0m nbin \u001b[38;5;241m=\u001b[39m \u001b[38;5;241m20\u001b[39m\n",
      "\u001b[0;31mNameError\u001b[0m: name 'RCE_concat' is not defined"
     ]
    }
   ],
   "source": [
    "qv_RCE = RCE_concat( p99s, 'QV' )\n",
    "qv_RCE_sum = np.nansum( qv_RCE, axis=1 )\n",
    "\n",
    "nbin = 20\n",
    "sdupper = 6\n",
    "fig = plt.figure()\n",
    "wgts = np.ones_like(qv_RCE_sum)/float(len(qv_RCE_sum))*100.\n",
    "upp = np.percentile( rad_RCE, 75 )\n",
    "loo = np.percentile( rad_RCE, 25 )\n",
    "plt.hist( qv_RCE_sum, weights=wgts, bins=np.linspace(50,600,nbin), histtype=u'step', lw=lw, color='darkblue' )\n",
    "print(np.nanmean(qv_RCE))\n",
    "\n",
    "wgts = np.ones_like(qv_RCE_sum[rad_RCE >= upp])/float(len(qv_RCE_sum[rad_RCE >= upp]))*100.\n",
    "plt.hist( qv_RCE_sum[rad_RCE >= upp], bins=np.linspace(50,600,nbin), weights=wgts, histtype=u'step', lw=lw, color='darkorange' )\n",
    "print(np.nanmean(qv_RCE_sum[rad_RCE >= upp]))\n",
    "\n",
    "wgts = np.ones_like(qv_RCE_sum[rad_RCE <= loo])/float(len(qv_RCE_sum[rad_RCE <= loo]))*100.\n",
    "plt.hist( qv_RCE_sum[rad_RCE <= loo], bins=np.linspace(50,600,nbin), weights=wgts, histtype=u'step', lw=lw, color='gold' )\n",
    "print(np.nanmean(qv_RCE_sum[rad_RCE <= loo]))"
   ]
  },
  {
   "cell_type": "markdown",
   "id": "9b3ac06d",
   "metadata": {},
   "source": [
    "### Histogram of omega for all, small, and large MCSs in RCE output"
   ]
  },
  {
   "cell_type": "code",
   "execution_count": 13,
   "id": "744acdc6",
   "metadata": {},
   "outputs": [
    {
     "name": "stdout",
     "output_type": "stream",
     "text": [
      "18.699505\n",
      "15.80242\n",
      "20.725695\n"
     ]
    },
    {
     "data": {
      "image/png": "[encoded data removed]",
      "text/plain": [
       "<Figure size 432x288 with 1 Axes>"
      ]
     },
     "metadata": {
      "needs_background": "light"
     },
     "output_type": "display_data"
    }
   ],
   "source": [
    "omega_RCE = RCE_concat( p99s, 'omega' )\n",
    "omega_RCE = omega_RCE[:,17]\n",
    "omega_RCE = xr.where( omega_RCE < 0, -1.*omega_RCE, np.nan )\n",
    "bins = np.logspace( -1, 2, 60 )\n",
    "\n",
    "nbin = 20\n",
    "fig = plt.figure()\n",
    "wgts = np.ones_like(omega_RCE)/float(len(omega_RCE))*100.\n",
    "upp = np.percentile( rad_RCE, 75 )\n",
    "loo = np.percentile( rad_RCE, 25 )\n",
    "plt.hist( omega_RCE, weights=wgts, bins=bins, histtype=u'step', lw=lw, color='darkblue' )\n",
    "print(np.nanmean(omega_RCE))\n",
    "\n",
    "wgts = np.ones_like(omega_RCE[rad_RCE >= upp])/float(len(omega_RCE[rad_RCE >= upp]))*100.\n",
    "plt.hist( omega_RCE[rad_RCE >= upp], weights=wgts, bins=bins, histtype=u'step', lw=lw, color='darkorange' )\n",
    "print(np.nanmean(omega_RCE[rad_RCE >= upp]))\n",
    "\n",
    "wgts = np.ones_like(omega_RCE[rad_RCE <= loo])/float(len(omega_RCE[rad_RCE <= loo]))*100.\n",
    "plt.hist( omega_RCE[rad_RCE <= loo], weights=wgts, bins=bins, histtype=u'step', lw=lw, color='gold' )\n",
    "print(np.nanmean(omega_RCE[rad_RCE <= loo]))\n",
    "\n",
    "plt.gca().set_xscale( 'log' )"
   ]
  },
  {
   "cell_type": "code",
   "execution_count": null,
   "id": "5188e043",
   "metadata": {},
   "outputs": [],
   "source": []
  }
 ],
 "metadata": {
  "kernelspec": {
   "display_name": "ncplot",
   "language": "python",
   "name": "ncplot"
  },
  "language_info": {
   "codemirror_mode": {
    "name": "ipython",
    "version": 3
   },
   "file_extension": ".py",
   "mimetype": "text/x-python",
   "name": "python",
   "nbconvert_exporter": "python",
   "pygments_lexer": "ipython3",
   "version": "3.9.12"
  }
 },
 "nbformat": 4,
 "nbformat_minor": 5
}
