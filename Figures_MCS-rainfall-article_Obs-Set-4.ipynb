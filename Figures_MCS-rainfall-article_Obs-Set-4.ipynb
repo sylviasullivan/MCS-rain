{
 "cells": [
  {
   "cell_type": "markdown",
   "id": "3e41a253",
   "metadata": {},
   "source": [
    "### This notebook generates the precipitation efficiency distribution for MCSs in the reanalysis-convective tracking data. First import libraries and constants."
   ]
  },
  {
   "cell_type": "code",
   "execution_count": 1,
   "id": "16938555",
   "metadata": {},
   "outputs": [],
   "source": [
    "import numpy as np\n",
    "import scipy as sp\n",
    "import xarray as xr\n",
    "import matplotlib.pyplot as plt\n",
    "import pandas as pd\n",
    "import warnings\n",
    "import numpy.ma as ma\n",
    "import seaborn as sns\n",
    "import scipy.optimize\n",
    "from matplotlib import cm\n",
    "from numpy import unravel_index\n",
    "\n",
    "plt.rcParams.update({'font.size': 12})\n",
    "\n",
    "warnings.filterwarnings(action='ignore')\n",
    "\n",
    "from plotting_utilities import *\n",
    "from thermodynamic_functions import *"
   ]
  },
  {
   "cell_type": "code",
   "execution_count": 2,
   "id": "d5e4f44a",
   "metadata": {},
   "outputs": [],
   "source": [
    "g = 9.8 # gravitational acceleration [m s-2]\n",
    "rho_air = 1.395 # density of air (kg m-3)\n",
    "rho_water = 1000 #density of water (kg m-3)\n",
    "eps = 0.01802/0.02897 # ratio of MW_water to MW_air"
   ]
  },
  {
   "cell_type": "code",
   "execution_count": 3,
   "id": "c0e79ed6",
   "metadata": {},
   "outputs": [
    {
     "name": "stdout",
     "output_type": "stream",
     "text": [
      "-56.0\n",
      "56.0\n",
      "(695667,)\n"
     ]
    }
   ],
   "source": [
    "# array of years\n",
    "years = np.arange( 1983, 2008 )\n",
    "\n",
    "# create list of file names\n",
    "file_years = file_concatenator(years)\n",
    "\n",
    "# Are we only looking at tropical MCSs?\n",
    "minlat_array = nc_open_compile(file_years,\"min latitude\")\n",
    "print(np.nanmin(minlat_array))\n",
    "maxlat_array = nc_open_compile(file_years,\"max latitude\")\n",
    "print(np.nanmax(maxlat_array))\n",
    "tropical_indx = np.argwhere( (minlat_array >= -30) & (maxlat_array <= 30) )[:,0]\n",
    "print(tropical_indx.shape)\n",
    "\n",
    "# applying same for MCS lifetime and morphology\n",
    "lifetime_array = nc_open_compile(file_years,\"lifetime\")\n",
    "lifetime_ERAI = negative_to_nan(lifetime_array)[tropical_indx]\n",
    "maxrad_array = nc_open_compile(file_years,\"maxrad\")\n",
    "maxrad_ERAI = negative_to_nan(maxrad_array)[tropical_indx]\n",
    "minctt_array = nc_open_compile(file_years,\"minctt\")\n",
    "minctt_ERAI = negative_to_nan(minctt_array)[tropical_indx]\n",
    "\n",
    "# applying same for pmax and pacc\n",
    "pmax_array = nc_open_compile(file_years,\"pmax\")\n",
    "pmax_ERAI = negative_to_nan(pmax_array)[tropical_indx]"
   ]
  },
  {
   "cell_type": "code",
   "execution_count": 5,
   "id": "eefb9ce6",
   "metadata": {},
   "outputs": [
    {
     "name": "stdout",
     "output_type": "stream",
     "text": [
      "(32,)\n",
      "(695667, 32)\n"
     ]
    }
   ],
   "source": [
    "#pressure level values converted into double point precision\n",
    "#factor of 100 converts hPa to Pa. we want to use SI units exclusively below.\n",
    "plev_ERAI = np.double((xr.open_dataset(file_years[0])).pressure.data)*100\n",
    "\n",
    "# calculate the saturation vapor mixing ratio, Curry & Webster (4.37)\n",
    "temp_ERAI = nc_open_compile( file_years, \"temperature\", 'stack' )[tropical_indx]\n",
    "qvsat_ERAI = eps * satVapP_liq(temp_ERAI) / ( plev_ERAI - satVapP_liq(temp_ERAI) )"
   ]
  },
  {
   "cell_type": "markdown",
   "id": "ea462c02",
   "metadata": {},
   "source": [
    "### Precipitation efficiency from integrated condensation rate scaling"
   ]
  },
  {
   "cell_type": "code",
   "execution_count": 20,
   "id": "aafe9208",
   "metadata": {},
   "outputs": [
    {
     "name": "stdout",
     "output_type": "stream",
     "text": [
      "-4.397951030464751e-06 0.0002418088658225283 0.0002674998710204207 0.011008421073960389\n",
      "-221.84872679419473 7.003932908154794 384.8225560481695\n"
     ]
    }
   ],
   "source": [
    "# Calculate the gradient with respect to pressure of the saturation vapor mixing ratio\n",
    "p_ERAI = (xr.open_dataset(file_years[0])).pressure.data*100. # converting hPa -> Pa\n",
    "dqvsat_dp_ERAI = np.gradient( qvsat_ERAI, p_ERAI, axis=1 )\n",
    "\n",
    "# Multiply the gradient with respect to pressure by pressure velocity\n",
    "omega_array = nc_open_compile(file_years,\"omega\",'stack')\n",
    "omega_ERAI = positive_to_nan(omega_array)[tropical_indx]\n",
    "integrand = omega_ERAI * dqvsat_dp_ERAI / g\n",
    "\n",
    "# Determine integration bounds on the basis of the cold-point tropopause\n",
    "tempmean_ERAI = np.nanmean( temp_ERAI, axis=0 )\n",
    "#print(tempmean_ERAI)\n",
    "\n",
    "# Integrate the condensation rate over the pressures\n",
    "cond_rate_ERAI = np.trapz( x=p_ERAI[:-1], y=-1.*integrand[:,:-1] )\n",
    "print( np.nanmin(cond_rate_ERAI), np.nanmedian(cond_rate_ERAI), np.nanmean(cond_rate_ERAI), np.nanmax(cond_rate_ERAI) )\n",
    "peff_ERAI = pmax_ERAI / 3600 / cond_rate_ERAI\n",
    "print( np.nanmin(peff_ERAI), np.nanmedian(peff_ERAI), np.nanmax(peff_ERAI) )"
   ]
  },
  {
   "cell_type": "code",
   "execution_count": 31,
   "id": "42c4cf13",
   "metadata": {},
   "outputs": [
    {
     "name": "stdout",
     "output_type": "stream",
     "text": [
      "695667\n"
     ]
    }
   ],
   "source": [
    "print(len(peff_ERAI>0))"
   ]
  },
  {
   "cell_type": "code",
   "execution_count": 6,
   "id": "7aff966b",
   "metadata": {},
   "outputs": [],
   "source": [
    "# Thermodynamic parameters - how strong is correlation with these?\n",
    "t2m_array = nc_open_compile(file_years,\"t2m\")\n",
    "t2m_ERAI = negative_to_nan(t2m_array)[tropical_indx]\n",
    "dpt_array = nc_open_compile(file_years,\"dpt\")\n",
    "dpt_ERAI = negative_to_nan(dpt_array)[tropical_indx]\n",
    "sst_array = nc_open_compile(file_years,\"sst\")\n",
    "sst_ERAI = negative_to_nan(sst_array)[tropical_indx]"
   ]
  },
  {
   "cell_type": "code",
   "execution_count": 7,
   "id": "56b399f9",
   "metadata": {},
   "outputs": [],
   "source": [
    "# Storm morphology parameters - how strong is correlation with these?\n",
    "rad_array = nc_open_compile(file_years,\"rad\")\n",
    "rad_ERAI = negative_to_nan(rad_array)[tropical_indx]\n",
    "ctt_array = nc_open_compile(file_years,\"ctt\")\n",
    "ctt_ERAI = negative_to_nan(ctt_array)[tropical_indx]\n",
    "maxrad_array = nc_open_compile(file_years,\"maxrad\")\n",
    "maxrad_ERAI = negative_to_nan(maxrad_array)[tropical_indx]\n",
    "minctt_array = nc_open_compile(file_years,\"minctt\")\n",
    "minctt_ERAI = negative_to_nan(minctt_array)[tropical_indx]\n",
    "lifetime_array = nc_open_compile(file_years,\"lifetime\")\n",
    "lifetime_ERAI = negative_to_nan(lifetime_array)[tropical_indx]"
   ]
  },
  {
   "cell_type": "code",
   "execution_count": 26,
   "id": "d2b19e6b",
   "metadata": {},
   "outputs": [
    {
     "name": "stdout",
     "output_type": "stream",
     "text": [
      "(695667,)\n"
     ]
    }
   ],
   "source": [
    "print(t2m_ERAI.shape)"
   ]
  },
  {
   "cell_type": "code",
   "execution_count": 8,
   "id": "869d36d3",
   "metadata": {},
   "outputs": [],
   "source": [
    "# Integrated amounts of cloud condensate - how strong is correlation with these?\n",
    "qi_array = nc_open_compile(file_years,\"qi\",\"stack\")\n",
    "qi_ERAI = negative_to_nan(qi_array)[tropical_indx]\n",
    "IWP_ERAI = np.cumsum( rho_water*qi_ERAI, axis=1 )*1000 # [g m-2]\n",
    "IWP_ERAI = IWP_ERAI[:,-1]\n",
    "qc_array = nc_open_compile(file_years,\"qc\",\"stack\")\n",
    "qc_ERAI = negative_to_nan(qc_array)[tropical_indx]\n",
    "LWP_ERAI = np.cumsum( rho_water*qc_ERAI, axis=1 )*1000 # [g m-2]\n",
    "LWP_ERAI = LWP_ERAI[:,-1]\n",
    "\n",
    "# CAPE and integrated mass flux - how strong is correlation with these?\n",
    "cape_array = nc_open_compile(file_years,\"cape\")\n",
    "cape_ERAI = negative_to_nan(cape_array)[tropical_indx]\n",
    "capepre_array = nc_open_compile(file_years,\"capepre\")\n",
    "capepre_ERAI = negative_to_nan(capepre_array)[tropical_indx]\n",
    "capepre6_array = nc_open_compile(file_years,\"capepre6\")\n",
    "capepre6_ERAI = negative_to_nan(capepre6_array)[tropical_indx]\n",
    "omega_array = nc_open_compile(file_years,\"omega\",\"stack\")\n",
    "omega_ERAI = positive_to_nan(omega_array)[tropical_indx]\n",
    "#omegaint_ERAI = np.cumsum( rho*w_ERAI, axis=1 )*1000 # [g m-2]\n",
    "#print(omegaint_ERAI.shape)\n",
    "#omegaint_ERAI = omegaint_ERAI[:,-1]\n",
    "#print(omegaint_ERAI.shape)"
   ]
  },
  {
   "cell_type": "code",
   "execution_count": 25,
   "id": "b454d292",
   "metadata": {},
   "outputs": [
    {
     "ename": "IndexError",
     "evalue": "boolean index did not match indexed array along dimension 0; dimension is 695667 but corresponding boolean dimension is 39381",
     "output_type": "error",
     "traceback": [
      "\u001b[0;31m---------------------------------------------------------------------------\u001b[0m",
      "\u001b[0;31mIndexError\u001b[0m                                Traceback (most recent call last)",
      "\u001b[0;32m/tmp/ipykernel_49816/1153918068.py\u001b[0m in \u001b[0;36m<module>\u001b[0;34m\u001b[0m\n\u001b[1;32m      7\u001b[0m \u001b[0mmaxrad_ERAI\u001b[0m \u001b[0;34m=\u001b[0m \u001b[0mmaxrad_ERAI\u001b[0m\u001b[0;34m[\u001b[0m\u001b[0mpeff_ERAI\u001b[0m \u001b[0;34m>=\u001b[0m \u001b[0;36m0\u001b[0m\u001b[0;34m]\u001b[0m\u001b[0;34m\u001b[0m\u001b[0;34m\u001b[0m\u001b[0m\n\u001b[1;32m      8\u001b[0m \u001b[0mminctt_ERAI\u001b[0m \u001b[0;34m=\u001b[0m \u001b[0mminctt_ERAI\u001b[0m\u001b[0;34m[\u001b[0m\u001b[0mpeff_ERAI\u001b[0m \u001b[0;34m>=\u001b[0m \u001b[0;36m0\u001b[0m\u001b[0;34m]\u001b[0m\u001b[0;34m\u001b[0m\u001b[0;34m\u001b[0m\u001b[0m\n\u001b[0;32m----> 9\u001b[0;31m \u001b[0mIWP_ERAI_2\u001b[0m \u001b[0;34m=\u001b[0m \u001b[0mIWP_ERAI\u001b[0m\u001b[0;34m[\u001b[0m\u001b[0mpeff_ERAI\u001b[0m \u001b[0;34m>=\u001b[0m \u001b[0;36m0\u001b[0m\u001b[0;34m]\u001b[0m\u001b[0;34m\u001b[0m\u001b[0;34m\u001b[0m\u001b[0m\n\u001b[0m\u001b[1;32m     10\u001b[0m \u001b[0momega_ERA_2\u001b[0m \u001b[0;34m=\u001b[0m \u001b[0momega_ERAI\u001b[0m\u001b[0;34m[\u001b[0m\u001b[0mpeff_ERAI\u001b[0m\u001b[0;34m>=\u001b[0m\u001b[0;36m0\u001b[0m\u001b[0;34m,\u001b[0m\u001b[0;34m:\u001b[0m\u001b[0;34m]\u001b[0m\u001b[0;34m\u001b[0m\u001b[0;34m\u001b[0m\u001b[0m\n\u001b[1;32m     11\u001b[0m \u001b[0;31m#wint_ERAI = wint_ERAI[peff_ERAI >= 0]\u001b[0m\u001b[0;34m\u001b[0m\u001b[0;34m\u001b[0m\u001b[0;34m\u001b[0m\u001b[0m\n",
      "\u001b[0;31mIndexError\u001b[0m: boolean index did not match indexed array along dimension 0; dimension is 695667 but corresponding boolean dimension is 39381"
     ]
    }
   ],
   "source": [
    "# Filter for the correlations below\n",
    "cape_ERAI = cape_ERAI[peff_ERAI >= 0]\n",
    "capepre_ERAI = capepre_ERAI[peff_ERAI >= 0]\n",
    "capepre6_ERAI = capepre6_ERAI[peff_ERAI >= 0]\n",
    "rad_ERAI = rad_ERAI[peff_ERAI >= 0]\n",
    "ctt_ERAI = ctt_ERAI[peff_ERAI >= 0]\n",
    "maxrad_ERAI = maxrad_ERAI[peff_ERAI >= 0]\n",
    "minctt_ERAI = minctt_ERAI[peff_ERAI >= 0]\n",
    "IWP_ERAI_2 = IWP_ERAI[peff_ERAI >= 0]\n",
    "omega_ERA_2 = omega_ERAI[peff_ERAI>=0,:]\n",
    "#wint_ERAI = wint_ERAI[peff_ERAI >= 0]\n",
    "LWP_ERAI_2 = LWP_ERAI[peff_ERAI >= 0]\n",
    "lifetime_ERAI = lifetime_ERAI[peff_ERAI >= 0]\n",
    "t2m_ERAI = t2m_ERAI[peff_ERAI >= 0]\n",
    "dpt_ERAI = dpt_ERAI[peff_ERAI >= 0]\n",
    "sst_ERAI = sst_ERAI[peff_ERAI >= 0]\n",
    "\n",
    "pmax_ERAI_2 = pmax_ERAI[peff_ERAI >= 0]\n",
    "peff_ERAI = peff_ERAI[peff_ERAI >= 0]"
   ]
  },
  {
   "cell_type": "code",
   "execution_count": 10,
   "id": "7479858b",
   "metadata": {},
   "outputs": [
    {
     "name": "stdout",
     "output_type": "stream",
     "text": [
      "Correlation of precip efficiency with storm morphology parameters\n",
      "0.1968143373461888\n",
      "0.06898270584128938\n",
      "0.050381237784257425\n",
      "-0.03981219283639907\n",
      "0.04364222299217337\n",
      "~~~~~~~~~~~~~~~~~~~~~~~~~~~~~~~~~~~~~~~~\n",
      "Correlation of precip efficiency with LWP versus IWP\n",
      "-0.020665901026202766\n",
      "0.005332425883972671\n",
      "~~~~~~~~~~~~~~~~~~~~~~~~~~~~~~~~~~~~~~~~\n",
      "Correlation of precip efficiency with various surface temperatures\n",
      "-0.020787513017533208\n",
      "0.01180654966924733\n",
      "0.06400188672158702\n",
      "~~~~~~~~~~~~~~~~~~~~~~~~~~~~~~~~~~~~~~~~\n",
      "Correlation of precip efficiency with CAPE, integrated mass flux, and w\n",
      "0.02420648209481083\n",
      "0.01597073434982182\n",
      "0.01245603866853693\n"
     ]
    }
   ],
   "source": [
    "print('Correlation of precip efficiency with storm morphology parameters')\n",
    "print( ma.corrcoef(rad_ERAI, peff_ERAI)[0,1] )\n",
    "print( ma.corrcoef(maxrad_ERAI, peff_ERAI)[0,1] )\n",
    "print( ma.corrcoef(ctt_ERAI, peff_ERAI)[0,1] )\n",
    "print( ma.corrcoef(minctt_ERAI, peff_ERAI)[0,1] )\n",
    "print( ma.corrcoef(lifetime_ERAI, peff_ERAI)[0,1] )\n",
    "print('~~~~~~~~~~~~~~~~~~~~~~~~~~~~~~~~~~~~~~~~')\n",
    "print('Correlation of precip efficiency with LWP versus IWP')\n",
    "print( np.corrcoef(LWP_ERAI_2[~np.isnan(LWP_ERAI_2)], peff_ERAI[~np.isnan(LWP_ERAI_2)])[0,1] )\n",
    "print( np.corrcoef(IWP_ERAI_2[~np.isnan(IWP_ERAI_2)], peff_ERAI[~np.isnan(IWP_ERAI_2)])[0,1] )\n",
    "print('~~~~~~~~~~~~~~~~~~~~~~~~~~~~~~~~~~~~~~~~')\n",
    "print('Correlation of precip efficiency with various surface temperatures')\n",
    "print( np.corrcoef(t2m_ERAI, peff_ERAI)[0,1] )\n",
    "print( np.corrcoef(sst_ERAI[~np.isnan(sst_ERAI)], peff_ERAI[~np.isnan(sst_ERAI)])[0,1] )\n",
    "print( np.corrcoef(dpt_ERAI, peff_ERAI)[0,1] )\n",
    "print('~~~~~~~~~~~~~~~~~~~~~~~~~~~~~~~~~~~~~~~~')\n",
    "print('Correlation of precip efficiency with CAPE, integrated mass flux, and w')\n",
    "print( np.corrcoef(cape_ERAI[~np.isnan(cape_ERAI)], peff_ERAI[~np.isnan(cape_ERAI)])[0,1] )\n",
    "print( np.corrcoef(capepre_ERAI[~np.isnan(capepre_ERAI)], peff_ERAI[~np.isnan(capepre_ERAI)])[0,1] )\n",
    "print( np.corrcoef(capepre6_ERAI[~np.isnan(capepre6_ERAI)], peff_ERAI[~np.isnan(capepre6_ERAI)])[0,1] )\n",
    "#print( np.corrcoef(wint_ERAI, peff_ERAI)[0,1] )\n",
    "#for i in np.arange(w_ERA_2.shape[1]):\n",
    "#    print( np.corrcoef(w_ERA_2[:,i], peff_ERAI)[0,1] )"
   ]
  },
  {
   "cell_type": "code",
   "execution_count": 22,
   "id": "b129e493",
   "metadata": {},
   "outputs": [
    {
     "name": "stdout",
     "output_type": "stream",
     "text": [
      "(695667, 32)\n"
     ]
    }
   ],
   "source": [
    "print(IWP_ERAI.shape)"
   ]
  },
  {
   "cell_type": "code",
   "execution_count": 21,
   "id": "4273e4d6",
   "metadata": {},
   "outputs": [
    {
     "name": "stdout",
     "output_type": "stream",
     "text": [
      "(39381,) (39381,)\n"
     ]
    }
   ],
   "source": [
    "IWP_ERAI = IWP_ERAI[:,-1]\n",
    "print(peff_ERAI.shape,LWP_ERAI_2.shape)"
   ]
  },
  {
   "cell_type": "code",
   "execution_count": 29,
   "id": "0b99b105",
   "metadata": {},
   "outputs": [
    {
     "name": "stdout",
     "output_type": "stream",
     "text": [
      "139.7167666402955\n",
      "384.8225560481695\n",
      "7.004138806058911\n",
      "11.822904042914612\n",
      "42742\n",
      "42742\n"
     ]
    }
   ],
   "source": [
    "print(np.percentile( peff_ERAI, 99.9 ))\n",
    "print(np.nanmax( peff_ERAI ))\n",
    "print(np.nanmedian( peff_ERAI))\n",
    "print(np.nanmean( peff_ERAI))\n",
    "print(len(peff_ERAI>0))\n",
    "peff_ERAI = peff_ERAI[peff_ERAI>0]\n",
    "print(len(peff_ERAI<1))"
   ]
  },
  {
   "cell_type": "code",
   "execution_count": 25,
   "id": "b362920c",
   "metadata": {},
   "outputs": [
    {
     "data": {
      "image/png": "[encoded data removed]",
      "text/plain": [
       "<Figure size 1200x450 with 2 Axes>"
      ]
     },
     "metadata": {},
     "output_type": "display_data"
    }
   ],
   "source": [
    "fs = 18\n",
    "fig, ax = plt.subplots( 1, 2, figsize =(12, 4.5) )\n",
    "\n",
    "wgts = np.ones_like( peff_ERAI )/float( len( peff_ERAI ) )*100\n",
    "#bins=np.logspace(-3.5, 0, 35),\n",
    "ax[0].hist( peff_ERAI, weights=wgts, color='skyblue', edgecolor='black' )\n",
    "ax[0].set_ylabel( 'Probability [%]', fontsize=fs )\n",
    "ax[0].set_xlabel( r'Precip efficiency $\\varepsilon_p$ [-]', fontsize=fs )\n",
    "#ax[0].set_xscale( 'log' )\n",
    "ax[0].spines['top'].set_visible(False)\n",
    "ax[0].spines['right'].set_visible(False)\n",
    "\n",
    "#ax[1].hist2d( pmax_ERAI_2, peff_ERAI, bins=[ np.logspace(-1,2,35), np.logspace(-3,0,35) ], cmap=plt.cm.Blues )\n",
    "ax[1].set_xscale('log')\n",
    "ax[1].set_yscale('log')\n",
    "ax[1].set_ylabel(r'Precip efficiency $\\varepsilon_p$ [-]', fontsize=fs)\n",
    "ax[1].set_xlabel(r'$\\dot{P}_{MCS}$ [mm h$^{-1}$]', fontsize=fs)\n",
    "\n",
    "#fig.savefig( '/groups/sylvia/JAS-MCS-rain/figures/precipeff-ERAI.pdf', bbox_inches='tight' )\n",
    "plt.show()"
   ]
  },
  {
   "cell_type": "code",
   "execution_count": 42,
   "id": "5b89540b",
   "metadata": {},
   "outputs": [
    {
     "name": "stdout",
     "output_type": "stream",
     "text": [
      "[]\n"
     ]
    }
   ],
   "source": [
    "peff_ERAI = peff_ERAI*-1\n",
    "peff_ERAI = peff_ERAI[peff_ERAI>0]\n",
    "print(peff_ERAI)"
   ]
  },
  {
   "cell_type": "code",
   "execution_count": null,
   "id": "da1111ee",
   "metadata": {},
   "outputs": [],
   "source": []
  }
 ],
 "metadata": {
  "kernelspec": {
   "display_name": "ncplot",
   "language": "python",
   "name": "ncplot"
  },
  "language_info": {
   "codemirror_mode": {
    "name": "ipython",
    "version": 3
   },
   "file_extension": ".py",
   "mimetype": "text/x-python",
   "name": "python",
   "nbconvert_exporter": "python",
   "pygments_lexer": "ipython3",
   "version": "3.7.16"
  }
 },
 "nbformat": 4,
 "nbformat_minor": 5
}
