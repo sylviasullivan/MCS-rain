{
 "cells": [
  {
   "cell_type": "markdown",
   "id": "3e41a253",
   "metadata": {},
   "source": [
    "### This notebook generates the precipitation efficiency distribution for MCSs in the reanalysis-convective tracking data. First import libraries and constants."
   ]
  },
  {
   "cell_type": "code",
   "execution_count": 1,
   "id": "16938555",
   "metadata": {},
   "outputs": [],
   "source": [
    "import numpy as np\n",
    "import scipy as sp\n",
    "import xarray as xr\n",
    "import matplotlib.pyplot as plt\n",
    "import pandas as pd\n",
    "import warnings\n",
    "import numpy.ma as ma\n",
    "import seaborn as sns\n",
    "import scipy.optimize\n",
    "from scipy.stats import pearsonr, zscore\n",
    "from scipy.integrate import trapz\n",
    "from matplotlib import cm\n",
    "from numpy import unravel_index\n",
    "from matplotlib.gridspec import GridSpec\n",
    "from scipy.stats import ks_2samp\n",
    "\n",
    "plt.rcParams.update({'font.size': 12})\n",
    "\n",
    "warnings.filterwarnings(action='ignore')\n",
    "\n",
    "from plotting_utilities import *\n",
    "from thermodynamic_functions import *"
   ]
  },
  {
   "cell_type": "code",
   "execution_count": 2,
   "id": "d5e4f44a",
   "metadata": {},
   "outputs": [],
   "source": [
    "g = 9.8 # gravitational acceleration [m s-2]\n",
    "rho_air = 1.395 # density of air (kg m-3)\n",
    "rho_water = 1000 #density of water (kg m-3)\n",
    "eps = 0.01802/0.02897 # ratio of MW_water to MW_air"
   ]
  },
  {
   "cell_type": "markdown",
   "id": "cb3de2cb",
   "metadata": {},
   "source": [
    "## Load ERA data"
   ]
  },
  {
   "cell_type": "code",
   "execution_count": 4,
   "id": "c0e79ed6",
   "metadata": {},
   "outputs": [
    {
     "name": "stdout",
     "output_type": "stream",
     "text": [
      "(10206,)\n",
      "(10206,)\n"
     ]
    }
   ],
   "source": [
    "# array of years\n",
    "years = np.arange( 2000, 2002 )\n",
    "\n",
    "# create list of file names\n",
    "#file_years = file_concatenator_ERAI(years)\n",
    "file_years = file_concatenator_ERA5(years)\n",
    "\n",
    "# Are we only looking at tropical MCSs?\n",
    "minlat_array = nc_open_compile(file_years,\"min latitude\")\n",
    "maxlat_array = nc_open_compile(file_years,\"max latitude\")\n",
    "omega_array = nc_open_compile(file_years,\"w_mean\",'stack') # SS 20250204 \"omega\" -> \"w\"\n",
    "\n",
    "tropical_up_indx = np.argwhere( (np.all(omega_array < 0, axis=1)) & (minlat_array >= -10) & (maxlat_array <= 10) )[:,0]\n",
    "tropical_rain_indx = tropical_up_indx\n",
    "#tropical_rain_indx = np.argwhere( (minlat_array >= -10) & (maxlat_array <= 10) &\n",
    "#                                  (pmax_array >= np.percentile(pmax_array,75)) )[:,0]\n",
    "print(tropical_up_indx.shape)\n",
    "print(tropical_rain_indx.shape)\n",
    "\n",
    "# applying same for MCS lifetime and morphology\n",
    "lifetime_array = nc_open_compile(file_years,\"lifetime\")\n",
    "lifetime_ERA = negative_to_nan(lifetime_array)[tropical_rain_indx]\n",
    "rad_array = nc_open_compile(file_years,\"rad\")\n",
    "rad_ERA = negative_to_nan(rad_array)[tropical_rain_indx]\n",
    "minctt_array = nc_open_compile(file_years,\"minctt\")\n",
    "minctt_ERA = negative_to_nan(minctt_array)[tropical_rain_indx]\n",
    "omega_ERA = positive_to_nan(omega_array)[tropical_rain_indx]"
   ]
  },
  {
   "cell_type": "code",
   "execution_count": 5,
   "id": "2489cbaa",
   "metadata": {},
   "outputs": [
    {
     "name": "stdout",
     "output_type": "stream",
     "text": [
      "[100000.  97500.  95000.  92500.  90000.  87500.  85000.  82500.  80000.\n",
      "  77500.  75000.  70000.  65000.  60000.  55000.  50000.  45000.  40000.\n",
      "  35000.  30000.  25000.  22500.  20000.  17500.  15000.  12500.]\n"
     ]
    }
   ],
   "source": [
    "#pressure level values converted into double point precision\n",
    "#factor of 100 converts hPa to Pa. we want to use SI units exclusively below.\n",
    "plev_ERA = np.double((xr.open_dataset(file_years[0])).pressure_level.data)*100 # SS 20250204 \"pressure\" -> \"pressure_level\n",
    "print( plev_ERA )\n",
    "\n",
    "# calculate the saturation vapor mixing ratio, Curry & Webster (4.37)\n",
    "# In this calculation, I do not yet filter for tropical lat/lon. That is done below.\n",
    "temp_ERA = nc_open_compile( file_years, \"temperature_mean\", 'stack' )[tropical_rain_indx] # SS 20250204 \"temperature\" -> \"temeprature_mean\"\n",
    "qvsat_ERA = eps * satVapP_liq(temp_ERA) / ( plev_ERA - satVapP_liq(temp_ERA) )"
   ]
  },
  {
   "cell_type": "code",
   "execution_count": 6,
   "id": "158308b6",
   "metadata": {},
   "outputs": [],
   "source": [
    "# as in Singh et al. 2017 we calculate saturation deficit as the arithmetic mean\n",
    "# between its values at 850, 700, and 550 hPa\n",
    "qv_array = nc_open_compile( file_years, \"qv_mean\", 'stack' ) # SS 20250204 \"qv\" -> \"qv_mean\"\n",
    "qv_ERA = negative_to_nan(qv_array)[tropical_rain_indx]\n",
    "#qvpre_array = nc_open_compile( file_years, \"qvpre\", 'stack' )\n",
    "#qvpre_ERA = negative_to_nan(qvpre_array)[tropical_rain_indx]\n",
    "\n",
    "i = np.argmin( np.abs(plev_ERA - 85000) )\n",
    "sd850_ERA = (qvsat_ERA[:,i] - qv_ERA[:,i])*1000   # 1000 converts [kg kg-1] to [g kg-1]\n",
    "#sd850pre_ERA = (qvsat_ERA[:,i] - qvpre_ERA[:,i])*1000\n",
    "i = np.argmin( np.abs(plev_ERA - 70000) )\n",
    "sd700_ERA = (qvsat_ERA[:,i] - qv_ERA[:,i])*1000\n",
    "#sd700pre_ERA = (qvsat_ERA[:,i] - qvpre_ERA[:,i])*100\n",
    "i = np.argmin( np.abs(plev_ERA - 55000) )\n",
    "sd550_ERA = (qvsat_ERA[:,i] - qv_ERA[:,i])*1000\n",
    "#sd550pre_ERA = (qvsat_ERA[:,i] - qvpre_ERA[:,i])*1000\n",
    "\n",
    "sd_ERA = (sd850_ERA + sd700_ERA + sd550_ERA)/3\n",
    "#sdpre_ERA = (sd850pre_ERA + sd700pre_ERA + sd550pre_ERA)/3"
   ]
  },
  {
   "cell_type": "markdown",
   "id": "ea462c02",
   "metadata": {},
   "source": [
    "### Precipitation efficiency from integrated condensation rate scaling"
   ]
  },
  {
   "cell_type": "raw",
   "id": "49cf549f-092d-415f-af6f-db71e006114f",
   "metadata": {},
   "source": [
    "# Calculate the gradient with respect to pressure of the saturation vapor mixing ratio\n",
    "dqvsat_dp_ERA = np.gradient( qvsat_ERA, np.flip(plev_ERA), axis=1 ) # SS 20250204 flip plev\n",
    "print(dqvsat_dp_ERA.shape)\n",
    "\n",
    "# Multiply the gradient with respect to pressure by pressure velocity\n",
    "integrand = omega_ERA * dqvsat_dp_ERA / g\n",
    "\n",
    "# Determine integration bounds on the basis of the cold-point tropopause\n",
    "tempmean_ERA = np.nanmean( temp_ERA, axis=0 )\n",
    "\n",
    "# Integrate the condensation rate over the pressures\n",
    "cond_rate_ERA = np.trapz( x=plev_ERA, y=-1.*integrand )\n",
    "print( np.nanmin(cond_rate_ERA), np.nanmedian(cond_rate_ERA), np.nanmean(cond_rate_ERA), np.nanmax(cond_rate_ERA) )\n",
    "peff_ERA = pmax_ERA / 3600 / cond_rate_ERA\n",
    "print( np.nanmin(peff_ERA), np.nanmedian(peff_ERA), np.nanmax(peff_ERA) )"
   ]
  },
  {
   "cell_type": "markdown",
   "id": "4870b0f1",
   "metadata": {},
   "source": [
    "## Filter by MCS morphology"
   ]
  },
  {
   "cell_type": "raw",
   "id": "e266085a-9525-4118-b957-d8c0407a8ef5",
   "metadata": {},
   "source": [
    "# Storm morphology parameters - how strong is correlation with these?\n",
    "# Do not filter for tropical lat/lon yet. That is done below.\n",
    "rad_array = nc_open_compile(file_years,\"rad\")\n",
    "rad_ERA = negative_to_nan(rad_array)[tropical_rain_indx]\n",
    "ctt_array = nc_open_compile(file_years,\"ctt\")\n",
    "ctt_ERA = negative_to_nan(ctt_array)[tropical_rain_indx]\n",
    "maxrad_array = nc_open_compile(file_years,\"maxrad\")\n",
    "maxrad_ERA = negative_to_nan(maxrad_array)[tropical_rain_indx]\n",
    "minctt_array = nc_open_compile(file_years,\"minctt\")\n",
    "minctt_ERA = negative_to_nan(minctt_array)[tropical_rain_indx]\n",
    "lifetime_array = nc_open_compile(file_years,\"lifetime\")\n",
    "lifetime_ERA = negative_to_nan(lifetime_array)[tropical_rain_indx]"
   ]
  },
  {
   "cell_type": "markdown",
   "id": "0811098c",
   "metadata": {},
   "source": [
    "### Calculate LWP and IWP"
   ]
  },
  {
   "cell_type": "code",
   "execution_count": 35,
   "id": "f484e536",
   "metadata": {},
   "outputs": [],
   "source": [
    "# Integrated amounts of cloud condensate - how strong is correlation with these?\n",
    "# Do not filter for tropical lat/lon yet. That is done below.\n",
    "qi_array = nc_open_compile(file_years,\"qi_mean\",\"stack\") # SS 20250204 \"qi\" -> \"qi_mean\"\n",
    "qi_ERA = negative_to_nan(qi_array)[tropical_rain_indx]\n",
    "\n",
    "# This method of evaluating IWP omits instances in which there is a NaN sandwiched between numeric values.\n",
    "# But these instances only constitute 3% of all samples.\n",
    "IWP_ERA = np.zeros( (qi_ERA.shape[0],) )\n",
    "for i in np.arange(qi_ERA.shape[0]):\n",
    "    j = np.argwhere( ~np.isnan(qi_ERA[i]) )\n",
    "    if len( j ) > 0:\n",
    "        start = j[0][0]\n",
    "        end = j[-1][0]\n",
    "        IWP_ERA[i] = np.trapz( qi_ERA[i,start:end] / g, np.flip(plev_ERA[start:end]) )*1000 # [g m-2] # SS 20250204 flip plev\n",
    "    else:\n",
    "        continue"
   ]
  },
  {
   "cell_type": "code",
   "execution_count": 36,
   "id": "869d36d3",
   "metadata": {},
   "outputs": [],
   "source": [
    "qc_array = nc_open_compile(file_years,\"qc_mean\",\"stack\") # SS 20250204 \"qc\" -> \"qc_mean\"\n",
    "qc_ERA = negative_to_nan(qc_array)[tropical_rain_indx]\n",
    "\n",
    "# This method of evaluating LWP omits instances in which there is a NaN sandwiched between numeric values.\n",
    "# But these instances only constitute 3% of all samples.\n",
    "LWP_ERA = np.zeros( (qc_ERA.shape[0],) )\n",
    "for i in np.arange(qc_ERA.shape[0]):\n",
    "    j = np.argwhere( ~np.isnan(qc_ERA[i]) )\n",
    "    if len( j ) > 0:\n",
    "        start = j[0][0]\n",
    "        end = j[-1][0]\n",
    "        LWP_ERA[i] = np.trapz( qc_ERA[i,start:end] / g, np.flip(plev_ERA[start:end]) )*1000 # [g m-2] # SS 20250204 flip plev\n",
    "    else:\n",
    "        continue"
   ]
  },
  {
   "cell_type": "raw",
   "id": "d017a5eb-47c3-41f0-8b16-cffeca4f43c6",
   "metadata": {},
   "source": [
    "print('Statistics of precipitation efficiency:')\n",
    "print(np.percentile( peff_ERA, 99 ))\n",
    "print(np.nanmax( peff_ERA ))\n",
    "print(np.nanmedian( peff_ERA))\n",
    "print(np.nanmean( peff_ERA))"
   ]
  },
  {
   "cell_type": "code",
   "execution_count": 47,
   "id": "89c8ec01",
   "metadata": {},
   "outputs": [
    {
     "name": "stdout",
     "output_type": "stream",
     "text": [
      "235.77237046432458 262.9653868488685 210.13678274256722\n",
      "0.2514010323029459\n",
      "0.42924768554912845\n",
      "0.2809021869417816\n",
      "0.23041853877684781\n"
     ]
    }
   ],
   "source": [
    "upp = np.percentile( rad_ERA, 75 )\n",
    "loo = np.percentile( rad_ERA, 25 )\n",
    "condensate_ERA = np.nansum( (qc_ERA, qi_ERA), axis=0  )\n",
    "condensate_small = np.nansum( (qc_ERA[rad_ERA <= loo], qi_ERA[rad_ERA <= loo]), axis=0 )\n",
    "condensate_large = np.nansum( (qc_ERA[rad_ERA >= upp], qi_ERA[rad_ERA >= upp]), axis=0 )\n",
    "\n",
    "CWP_ERA = LWP_ERA + IWP_ERA\n",
    "CWP_small = LWP_ERA[rad_ERA <= loo] + IWP_ERA[rad_ERA <= loo]\n",
    "CWP_large = LWP_ERA[rad_ERA >= upp] + IWP_ERA[rad_ERA >= upp]\n",
    "print(np.nanmean(CWP_ERA),np.nanmean(CWP_small),np.nanmean(CWP_large))\n",
    "print( (np.nanmean(CWP_small)-np.nanmean(CWP_large))/np.nanmean(CWP_large) )\n",
    "print( (np.nanpercentile(CWP_small,99)-np.nanpercentile(CWP_large,99))/np.nanpercentile(CWP_large,99) )\n",
    "print( (np.nanmean(LWP_ERA[rad_ERA <= loo])-np.nanmean(LWP_ERA[rad_ERA >= upp]))/np.nanmean(LWP_ERA[rad_ERA >= upp]) )\n",
    "print( (np.nanmean(IWP_ERA[rad_ERA <= loo])-np.nanmean(IWP_ERA[rad_ERA >= upp]))/np.nanmean(IWP_ERA[rad_ERA >= upp]) )"
   ]
  },
  {
   "cell_type": "raw",
   "id": "b60241dc-1dd5-4f87-8ab4-64d91d119771",
   "metadata": {},
   "source": [
    "# Are the precipitation efficiency distributions statistically significant for small versus large MCSs?\n",
    "upp = np.percentile( rad_ERA, 75 )\n",
    "loo = np.percentile( rad_ERA, 25 )\n",
    "data1 = peff_ERA\n",
    "data2 = peff_ERA[rad_ERA >= upp]\n",
    "data3 = peff_ERA[rad_ERA <= loo]\n",
    "\n",
    "statistic, p_value = ks_2samp( data1, data2 )\n",
    "print( statistic, p_value )\n",
    "statistic, p_value = ks_2samp( data2, data3 )\n",
    "print( statistic, p_value )\n",
    "statistic, p_value = ks_2samp( data1, data3 )\n",
    "print( statistic, p_value )"
   ]
  },
  {
   "cell_type": "code",
   "execution_count": 44,
   "id": "7c9a8f35",
   "metadata": {},
   "outputs": [
    {
     "name": "stdout",
     "output_type": "stream",
     "text": [
      "0.11463606940563931 7.618204041391945e-24\n",
      "0.20768145439630534 2.0483962097196062e-50\n",
      "0.10077158164345568 1.6357097599014977e-19\n"
     ]
    }
   ],
   "source": [
    "# Are the CWP distributions statistically significant for small versus large MCSs?\n",
    "upp = np.percentile( rad_ERA, 75 )\n",
    "loo = np.percentile( rad_ERA, 25 )\n",
    "data1 = CWP_ERA\n",
    "data2 = CWP_ERA[rad_ERA >= upp]\n",
    "data3 = CWP_ERA[rad_ERA <= loo]\n",
    "\n",
    "statistic, p_value = ks_2samp( data1, data2 )\n",
    "print( statistic, p_value )\n",
    "statistic, p_value = ks_2samp( data2, data3 )\n",
    "print( statistic, p_value )\n",
    "statistic, p_value = ks_2samp( data1, data3 )\n",
    "print( statistic, p_value )"
   ]
  },
  {
   "cell_type": "raw",
   "id": "9fa683e7",
   "metadata": {},
   "source": [
    "for i in np.arange( plev_ERA.shape[0] ):\n",
    "    print( (np.nanmean(condensate_small,axis=0)[i]-np.nanmean(condensate_large,axis=0)[i])/np.nanmean(condensate_small,axis=0)[i] )\n",
    "    print( plev_ERA[i] )\n",
    "    print( '~~~~~~~~~~~~~~~~~~~~~~~~~~~~~~' )"
   ]
  },
  {
   "cell_type": "code",
   "execution_count": 45,
   "id": "9c32b202",
   "metadata": {},
   "outputs": [
    {
     "name": "stdout",
     "output_type": "stream",
     "text": [
      "0.16539786091400388\n",
      "100000.0\n",
      "~~~~~~~~~~~~~~~~~~~~~~~~~~~~~~\n",
      "-0.16872216276882587\n",
      "97500.0\n",
      "~~~~~~~~~~~~~~~~~~~~~~~~~~~~~~\n",
      "-0.08529384372828051\n",
      "95000.0\n",
      "~~~~~~~~~~~~~~~~~~~~~~~~~~~~~~\n",
      "1.1618471140765931\n",
      "92500.0\n",
      "~~~~~~~~~~~~~~~~~~~~~~~~~~~~~~\n",
      "-0.1846873300137534\n",
      "90000.0\n",
      "~~~~~~~~~~~~~~~~~~~~~~~~~~~~~~\n",
      "0.5968245370402363\n",
      "87500.0\n",
      "~~~~~~~~~~~~~~~~~~~~~~~~~~~~~~\n",
      "-0.5219753269323473\n",
      "85000.0\n",
      "~~~~~~~~~~~~~~~~~~~~~~~~~~~~~~\n",
      "-0.15372236370029518\n",
      "82500.0\n",
      "~~~~~~~~~~~~~~~~~~~~~~~~~~~~~~\n",
      "-0.2365756978761174\n",
      "80000.0\n",
      "~~~~~~~~~~~~~~~~~~~~~~~~~~~~~~\n",
      "-0.2567056707231624\n",
      "77500.0\n",
      "~~~~~~~~~~~~~~~~~~~~~~~~~~~~~~\n",
      "0.22411109731141698\n",
      "75000.0\n",
      "~~~~~~~~~~~~~~~~~~~~~~~~~~~~~~\n",
      "-0.5423899325435736\n",
      "70000.0\n",
      "~~~~~~~~~~~~~~~~~~~~~~~~~~~~~~\n",
      "-0.3624771129196019\n",
      "65000.0\n",
      "~~~~~~~~~~~~~~~~~~~~~~~~~~~~~~\n",
      "-0.13734901378236614\n",
      "60000.0\n",
      "~~~~~~~~~~~~~~~~~~~~~~~~~~~~~~\n",
      "-0.23101462936408734\n",
      "55000.0\n",
      "~~~~~~~~~~~~~~~~~~~~~~~~~~~~~~\n",
      "-0.5912552339218898\n",
      "50000.0\n",
      "~~~~~~~~~~~~~~~~~~~~~~~~~~~~~~\n",
      "-0.7012655346916303\n",
      "45000.0\n",
      "~~~~~~~~~~~~~~~~~~~~~~~~~~~~~~\n",
      "-0.32718191094694293\n",
      "40000.0\n",
      "~~~~~~~~~~~~~~~~~~~~~~~~~~~~~~\n",
      "-0.5742261946798904\n",
      "35000.0\n",
      "~~~~~~~~~~~~~~~~~~~~~~~~~~~~~~\n",
      "2.1029166878050756\n",
      "30000.0\n",
      "~~~~~~~~~~~~~~~~~~~~~~~~~~~~~~\n",
      "0.4311145204216593\n",
      "25000.0\n",
      "~~~~~~~~~~~~~~~~~~~~~~~~~~~~~~\n",
      "-0.23800024569531525\n",
      "22500.0\n",
      "~~~~~~~~~~~~~~~~~~~~~~~~~~~~~~\n",
      "-0.03996502776734777\n",
      "20000.0\n",
      "~~~~~~~~~~~~~~~~~~~~~~~~~~~~~~\n",
      "0.04398992530364446\n",
      "17500.0\n",
      "~~~~~~~~~~~~~~~~~~~~~~~~~~~~~~\n",
      "0.13266529281217926\n",
      "15000.0\n",
      "~~~~~~~~~~~~~~~~~~~~~~~~~~~~~~\n",
      "-0.33061191037805177\n",
      "12500.0\n",
      "~~~~~~~~~~~~~~~~~~~~~~~~~~~~~~\n"
     ]
    }
   ],
   "source": [
    "for i in np.arange( plev_ERA.shape[0] ):\n",
    "    print( (np.nanpercentile(condensate_large,99,axis=1)[i]-np.nanpercentile(condensate_small,99,axis=1)[i])/np.nanpercentile(condensate_small,99,axis=1)[i] )\n",
    "    print( plev_ERA[i] )\n",
    "    print( '~~~~~~~~~~~~~~~~~~~~~~~~~~~~~~' )"
   ]
  },
  {
   "cell_type": "markdown",
   "id": "a9efdca3",
   "metadata": {},
   "source": [
    "## Plot distributions of precipitation efficiency, CWP, and cloud condensate"
   ]
  },
  {
   "cell_type": "code",
   "execution_count": 48,
   "id": "b362920c",
   "metadata": {},
   "outputs": [
    {
     "data": {
      "image/png": "[encoded data removed]",
      "text/plain": [
       "<Figure size 900x400 with 2 Axes>"
      ]
     },
     "metadata": {},
     "output_type": "display_data"
    }
   ],
   "source": [
    "fig, ax = plt.subplots( 1, 2, figsize =(9, 4), constrained_layout=True )\n",
    "lw = 3.5\n",
    "fs = 16\n",
    "upper = 400\n",
    "xlab = [ r'Cloud Water Path [g m$^{-2}$]', r'Cloud condensate [g kg$^{-1}$]' ]\n",
    "\n",
    "wgts = np.ones_like( CWP_ERA )/float( len( CWP_ERA) )*100\n",
    "edges, h = np.histogram( CWP_ERA, weights=wgts, bins=np.linspace(10,upper,35) )\n",
    "wgts2 = np.ones_like( CWP_large )/float( len(CWP_large) )*100\n",
    "edges2, h2 = np.histogram( CWP_large, weights=wgts2, bins=np.linspace(10,upper,35) )\n",
    "wgts3 = np.ones_like( CWP_small )/float( len(CWP_small) )*100\n",
    "edges3, h3 = np.histogram( CWP_small, weights=wgts3, bins=np.linspace(10,upper,35) )\n",
    "\n",
    "ax[0].stairs( edges, h, edgecolor='darkblue', lw=lw )\n",
    "ax[0].stairs( edges2, h2, edgecolor='darkorange', lw=lw )\n",
    "ax[0].stairs( edges3, h3, edgecolor='gold', lw=lw )\n",
    "ax[0].plot( [np.nanmean(CWP_ERA), np.nanmean(CWP_ERA)], [0.25,2.25], color='darkblue', lw=lw )\n",
    "ax[0].plot( [np.nanmean(CWP_large), np.nanmean(CWP_large)], [0.25,2.25], color='darkorange', lw=lw )\n",
    "ax[0].plot( [np.nanmean(CWP_small), np.nanmean(CWP_small)], [0.25,2.25], color='gold', lw=lw )\n",
    "ax[0].set_ylabel( 'Probability [%]', fontsize=fs )\n",
    "ax[0].text( 0.05, 0.97, 'a', weight='bold', style='italic', fontsize=fs+3, transform=ax[0].transAxes )\n",
    "ax[0].text( 0.7, 0.75, 'large', color='darkorange', fontsize=fs+4, transform=ax[0].transAxes )\n",
    "ax[0].text( 0.7, 0.65, 'all', color='darkblue', fontsize=fs+4, transform=ax[0].transAxes )\n",
    "ax[0].text( 0.7, 0.55, 'small', color='gold', fontsize=fs+4, transform=ax[0].transAxes )\n",
    "ax[0].set_xlim( [0,400] )\n",
    "\n",
    "ax[1].set_ylim( [1013,100] )\n",
    "ax[1].plot( (np.nanmean(condensate_ERA,axis=0) )*1000, plev_ERA/100., color='darkblue', lw=3, ls='--' )\n",
    "ax[1].plot( (np.nanmean(condensate_small,axis=0) )*1000, plev_ERA/100., color='gold', lw=3, ls='--' )\n",
    "ax[1].plot( (np.nanmean(condensate_large,axis=0) )*1000, plev_ERA/100., color='darkorange', lw=3, ls='--' )\n",
    "ax[1].plot( (np.nanpercentile(condensate_ERA,99,axis=0) )*1000, plev_ERA/100., color='darkblue', lw=3 )\n",
    "ax[1].plot( (np.nanpercentile(condensate_small,99,axis=0) )*1000, plev_ERA/100., color='gold', lw=3 )\n",
    "ax[1].plot( (np.nanpercentile(condensate_large,99,axis=0) )*1000, plev_ERA/100., color='darkorange', lw=3 )\n",
    "ax[1].text( 0.05, 0.97, 'b', weight='bold', style='italic', fontsize=fs+3, transform=ax[1].transAxes )\n",
    "#ax[1].set_xscale( 'log' )\n",
    "ax[1].set_ylabel( 'Pressure [hPa]', fontsize=fs )\n",
    "\n",
    "for i, a in enumerate(ax):\n",
    "    a.set_xlabel( xlab[i], fontsize=fs )\n",
    "    a.spines['top'].set_visible(False)\n",
    "    a.spines['right'].set_visible(False)\n",
    "    a.tick_params( 'both', labelsize=18 )\n",
    "    a.tick_params( 'y', rotation=45 )\n",
    "\n",
    "#fig.savefig( '/groups/sylvia/JAS-MCS-rain/figures/condensate-ERA.pdf', bbox_inches='tight' )\n",
    "plt.show()"
   ]
  },
  {
   "cell_type": "markdown",
   "id": "83b739b4",
   "metadata": {},
   "source": [
    "### filtering precipitation efficiency for different morphological parameters and intensities"
   ]
  },
  {
   "cell_type": "code",
   "execution_count": null,
   "id": "c6de609d",
   "metadata": {},
   "outputs": [],
   "source": [
    "omega_array = nc_open_compile(file_years,\"w_mean\",'stack').values\n",
    "pmax_array = nc_open_compile(file_years,\"pmax\").values\n",
    "indx1 = np.argwhere( (pmax_array >= np.percentile(pmax_array,75)) & (np.all(omega_array < 0, axis=1)) &\n",
    "                                (minlat_array >= -10) & (maxlat_array <= 10) )[:,0]\n",
    "indx2 = np.argwhere( (pmax_array >= np.percentile(pmax_array,90)) & (np.all(omega_array < 0, axis=1)) &\n",
    "                                (minlat_array >= -10) & (maxlat_array <= 10) )[:,0]\n",
    "peff_other = [[] for i in np.arange(2)]\n",
    "for j, i in enumerate([indx1, indx2]):\n",
    "    T = nc_open_compile( file_years, \"temperature_mean\", 'stack' )[i]\n",
    "    qvsat = eps * satVapP_liq(T) / ( plev_ERA - satVapP_liq(T) )\n",
    "    dqvsat_dp = np.gradient( qvsat, p_ERA, axis=1 )\n",
    "    omega = nc_open_compile(file_years,\"omega_mean\",'stack')[i]\n",
    "    integrand = 100*omega * dqvsat_dp / g\n",
    "    Tmean = np.nanmean( T, axis=0 )\n",
    "    cond_rate = np.trapz( x=p_ERA[:-1], y=-1.*integrand[:,:-1] )\n",
    "    pmax = pmax_array[i]\n",
    "    peff_other[j].extend( pmax / 3600 / cond_rate )"
   ]
  },
  {
   "cell_type": "code",
   "execution_count": 41,
   "id": "9ef98cab",
   "metadata": {},
   "outputs": [
    {
     "ename": "NameError",
     "evalue": "name 'peff_other' is not defined",
     "output_type": "error",
     "traceback": [
      "\u001b[0;31m---------------------------------------------------------------------------\u001b[0m",
      "\u001b[0;31mNameError\u001b[0m                                 Traceback (most recent call last)",
      "\u001b[0;32m/tmp/ipykernel_360568/3281925013.py\u001b[0m in \u001b[0;36m<module>\u001b[0;34m\u001b[0m\n\u001b[1;32m      1\u001b[0m \u001b[0mfig\u001b[0m\u001b[0;34m,\u001b[0m \u001b[0max\u001b[0m \u001b[0;34m=\u001b[0m \u001b[0mplt\u001b[0m\u001b[0;34m.\u001b[0m\u001b[0msubplots\u001b[0m\u001b[0;34m(\u001b[0m \u001b[0mnrows\u001b[0m\u001b[0;34m=\u001b[0m\u001b[0;36m2\u001b[0m\u001b[0;34m,\u001b[0m \u001b[0mncols\u001b[0m\u001b[0;34m=\u001b[0m\u001b[0;36m2\u001b[0m\u001b[0;34m,\u001b[0m \u001b[0mfigsize\u001b[0m \u001b[0;34m=\u001b[0m\u001b[0;34m(\u001b[0m\u001b[0;36m7.5\u001b[0m\u001b[0;34m,\u001b[0m \u001b[0;36m7.5\u001b[0m\u001b[0;34m)\u001b[0m\u001b[0;34m,\u001b[0m \u001b[0mconstrained_layout\u001b[0m\u001b[0;34m=\u001b[0m\u001b[0;32mTrue\u001b[0m \u001b[0;34m)\u001b[0m\u001b[0;34m\u001b[0m\u001b[0;34m\u001b[0m\u001b[0m\n\u001b[1;32m      2\u001b[0m \u001b[0;34m\u001b[0m\u001b[0m\n\u001b[0;32m----> 3\u001b[0;31m \u001b[0mwgts\u001b[0m \u001b[0;34m=\u001b[0m \u001b[0mnp\u001b[0m\u001b[0;34m.\u001b[0m\u001b[0mones_like\u001b[0m\u001b[0;34m(\u001b[0m \u001b[0mpeff_other\u001b[0m\u001b[0;34m[\u001b[0m\u001b[0;36m0\u001b[0m\u001b[0;34m]\u001b[0m \u001b[0;34m)\u001b[0m\u001b[0;34m/\u001b[0m\u001b[0mfloat\u001b[0m\u001b[0;34m(\u001b[0m \u001b[0mlen\u001b[0m\u001b[0;34m(\u001b[0m \u001b[0mpeff_other\u001b[0m\u001b[0;34m[\u001b[0m\u001b[0;36m0\u001b[0m\u001b[0;34m]\u001b[0m \u001b[0;34m)\u001b[0m \u001b[0;34m)\u001b[0m\u001b[0;34m*\u001b[0m\u001b[0;36m100\u001b[0m\u001b[0;34m\u001b[0m\u001b[0;34m\u001b[0m\u001b[0m\n\u001b[0m\u001b[1;32m      4\u001b[0m \u001b[0medges\u001b[0m\u001b[0;34m,\u001b[0m \u001b[0mh\u001b[0m \u001b[0;34m=\u001b[0m \u001b[0mnp\u001b[0m\u001b[0;34m.\u001b[0m\u001b[0mhistogram\u001b[0m\u001b[0;34m(\u001b[0m \u001b[0mnp\u001b[0m\u001b[0;34m.\u001b[0m\u001b[0marray\u001b[0m\u001b[0;34m(\u001b[0m\u001b[0mpeff_other\u001b[0m\u001b[0;34m[\u001b[0m\u001b[0;36m0\u001b[0m\u001b[0;34m]\u001b[0m\u001b[0;34m)\u001b[0m\u001b[0;34m,\u001b[0m \u001b[0mweights\u001b[0m\u001b[0;34m=\u001b[0m\u001b[0mwgts\u001b[0m\u001b[0;34m,\u001b[0m \u001b[0mbins\u001b[0m\u001b[0;34m=\u001b[0m\u001b[0mnp\u001b[0m\u001b[0;34m.\u001b[0m\u001b[0mlogspace\u001b[0m\u001b[0;34m(\u001b[0m\u001b[0;34m-\u001b[0m\u001b[0;36m3.5\u001b[0m\u001b[0;34m,\u001b[0m\u001b[0;36m0\u001b[0m\u001b[0;34m,\u001b[0m\u001b[0;36m35\u001b[0m\u001b[0;34m)\u001b[0m \u001b[0;34m)\u001b[0m\u001b[0;34m\u001b[0m\u001b[0;34m\u001b[0m\u001b[0m\n\u001b[1;32m      5\u001b[0m \u001b[0max\u001b[0m\u001b[0;34m[\u001b[0m\u001b[0;36m0\u001b[0m\u001b[0;34m,\u001b[0m\u001b[0;36m0\u001b[0m\u001b[0;34m]\u001b[0m\u001b[0;34m.\u001b[0m\u001b[0mstairs\u001b[0m\u001b[0;34m(\u001b[0m \u001b[0medges\u001b[0m\u001b[0;34m,\u001b[0m \u001b[0mh\u001b[0m\u001b[0;34m,\u001b[0m \u001b[0medgecolor\u001b[0m\u001b[0;34m=\u001b[0m\u001b[0;34m'darkblue'\u001b[0m\u001b[0;34m,\u001b[0m \u001b[0mlw\u001b[0m\u001b[0;34m=\u001b[0m\u001b[0mlw\u001b[0m \u001b[0;34m)\u001b[0m\u001b[0;34m\u001b[0m\u001b[0;34m\u001b[0m\u001b[0m\n",
      "\u001b[0;31mNameError\u001b[0m: name 'peff_other' is not defined"
     ]
    },
    {
     "data": {
      "image/png": "[encoded data removed]",
      "text/plain": [
       "<Figure size 750x750 with 4 Axes>"
      ]
     },
     "metadata": {},
     "output_type": "display_data"
    }
   ],
   "source": [
    "fig, ax = plt.subplots( nrows=2, ncols=2, figsize =(7.5, 7.5), constrained_layout=True )\n",
    "\n",
    "wgts = np.ones_like( peff_other[0] )/float( len( peff_other[0] ) )*100\n",
    "edges, h = np.histogram( np.array(peff_other[0]), weights=wgts, bins=np.logspace(-3.5,0,35) )\n",
    "ax[0,0].stairs( edges, h, edgecolor='darkblue', lw=lw )\n",
    "ax[0,0].text( 0.05, 0.85, r\"$<\\varepsilon_p>$=\" + f\"{np.nanmean(peff_other[0]):.3}\", color='darkblue', fontsize=fs+3, transform=ax[0,0].transAxes)\n",
    "ax[0,0].text( 0.05, 0.7, r\"$\\dot{P}_{75}$\", color='darkblue', fontsize=fs+3, transform=ax[0,0].transAxes )\n",
    "ax[0,0].set_ylim( [0,18])\n",
    "ax[0,0].set_ylabel( 'Probability [%]', fontsize=fs )\n",
    "ax[0,0].text( 0.05, 0.95, 'a', weight='bold', fontsize=fs+4, style='italic', transform=ax[0,0].transAxes )\n",
    "\n",
    "wgts = np.ones_like( peff_other[1] )/float( len( peff_other[1] ) )*100\n",
    "print(wgts)\n",
    "edges, h = np.histogram( np.array(peff_other[1]), weights=wgts, bins=np.logspace(-3.5,0,35) )\n",
    "ax[0,1].stairs( edges, h, edgecolor='darkblue', lw=lw )\n",
    "ax[0,1].set_ylim( [0,18])\n",
    "ax[0,1].text( 0.05, 0.95, 'b', weight='bold', fontsize=fs+4, style='italic', transform=ax[0,1].transAxes )\n",
    "ax[0,1].text( 0.05, 0.85, r\"$<\\varepsilon_p>$=\" + f\"{np.nanmean(peff_other[1]):.3}\", color='darkblue', fontsize=fs+3, transform=ax[0,1].transAxes)\n",
    "ax[0,1].text( 0.05, 0.7, r\"$\\dot{P}_{90}$\", color='darkblue', fontsize=fs+3, transform=ax[0,1].transAxes )\n",
    "\n",
    "wgts = np.ones_like( peff_ERA )/float( len( peff_ERA ) )*100\n",
    "edges, h = np.histogram( peff_ERA, weights=wgts, bins=np.logspace(-3.5,0,35) )\n",
    "loo = np.percentile( lifetime_ERA, 25 )\n",
    "upp = np.percentile( lifetime_ERA, 75 )\n",
    "wgts6 = np.ones_like( peff_ERA[lifetime_ERA >= upp] )/float( len( peff_ERA[lifetime_ERA >= upp] ) )*100\n",
    "edges6, h6 = np.histogram( peff_ERA[lifetime_ERA >= upp], weights=wgts6, bins=np.logspace(-3.5,0,35) )\n",
    "wgts7 = np.ones_like( peff_ERA[lifetime_ERA <= loo] )/float( len( peff_ERA[lifetime_ERA <= loo] ) )*100\n",
    "edges7, h7 = np.histogram( peff_ERA[lifetime_ERA <= loo], weights=wgts7, bins=np.logspace(-3.5,0,35) )\n",
    "\n",
    "ax[1,0].stairs( edges, h, edgecolor='darkblue', lw=lw )\n",
    "ax[1,0].stairs( edges6, h6, edgecolor='pink', lw=lw )\n",
    "ax[1,0].stairs( edges7, h7, edgecolor='darkred', lw=lw )\n",
    "ax[1,0].plot( [np.nanmean(peff_ERA), np.nanmean(peff_ERA)], [2.5,5], color='darkblue', lw=lw )\n",
    "ax[1,0].plot( [np.nanmean(peff_ERA[lifetime_ERA>=upp]), np.nanmean(peff_ERA[lifetime_ERA>=upp])], [2.5,5], color='pink', lw=lw )\n",
    "ax[1,0].plot( [np.nanmean(peff_ERA[lifetime_ERA<=loo]), np.nanmean(peff_ERA[lifetime_ERA<=loo])], [2.5,5], color='darkred', lw=lw )\n",
    "ax[1,0].text( 0.02, 0.85, r\"$<\\varepsilon_p>$=\" + f\"{np.nanmean(peff_ERA):.3}\", color='darkblue', fontsize=fs, transform=ax[1,0].transAxes)\n",
    "ax[1,0].text( 0.02, 0.75, r\"$<\\varepsilon_p>$=\" + f\"{np.nanmean(peff_ERA[lifetime_ERA<=loo]):.3}\", color='darkred', fontsize=fs, transform=ax[1,0].transAxes)\n",
    "ax[1,0].text( 0.02, 0.65, r\"$<\\varepsilon_p>$=\" + f\"{np.nanmean(peff_ERA[rad_ERA>=upp]):.3}\", color='pink', fontsize=fs, transform=ax[1,0].transAxes)\n",
    "ax[1,0].text( 0.05, 0.95, 'c', weight='bold', fontsize=fs+4, style='italic', transform=ax[1,0].transAxes )\n",
    "ax[1,0].set_ylabel( 'Probability [%]', fontsize=fs )\n",
    "ax[1,0].set_xlabel( r'Precipitation efficiency $\\varepsilon_p$ [-]', fontsize=fs )\n",
    "\n",
    "loo = np.percentile( minctt_ERA, 25 )\n",
    "upp = np.percentile( minctt_ERA, 75 )\n",
    "wgts4 = np.ones_like( peff_ERA[minctt_ERA >= upp] )/float( len( peff_ERA[minctt_ERA >= upp] ) )*100\n",
    "edges4, h4 = np.histogram( peff_ERA[minctt_ERA >= upp], weights=wgts4, bins=np.logspace(-3.5,0,35) )\n",
    "wgts5 = np.ones_like( peff_ERA[minctt_ERA <= loo] )/float( len( peff_ERA[minctt_ERA <= loo] ) )*100\n",
    "edges5, h5 = np.histogram( peff_ERA[minctt_ERA <= loo], weights=wgts5, bins=np.logspace(-3.5,0,35) )\n",
    "\n",
    "ax[1,1].stairs( edges, h, edgecolor='darkblue', lw=lw )\n",
    "ax[1,1].stairs( edges4, h4, edgecolor='green', lw=lw )\n",
    "ax[1,1].stairs( edges5, h5, edgecolor='turquoise', lw=lw )\n",
    "ax[1,1].plot( [np.nanmean(peff_ERA), np.nanmean(peff_ERA)], [2.5,5], color='darkblue', lw=lw )\n",
    "ax[1,1].plot( [np.nanmean(peff_ERA[minctt_ERA<=loo]), np.nanmean(peff_ERA[minctt_ERA<=loo])], [2.5,5], color='turquoise', lw=lw )\n",
    "ax[1,1].plot( [np.nanmean(peff_ERA[minctt_ERA>=upp]), np.nanmean(peff_ERA[minctt_ERA>=upp])], [2.5,5], color='green', lw=lw )\n",
    "ax[1,1].text( 0.02, 0.75, r\"$<\\varepsilon_p>$=\" + f\"{np.nanmean(peff_ERA[minctt_ERA<=loo]):.3}\", color='turquoise', fontsize=fs, transform=ax[1,1].transAxes)\n",
    "ax[1,1].text( 0.02, 0.65, r\"$<\\varepsilon_p>$=\" + f\"{np.nanmean(peff_ERA[minctt_ERA>=upp]):.3}\", color='green', fontsize=fs, transform=ax[1,1].transAxes)\n",
    "ax[1,1].text( 0.05, 0.95, 'd', weight='bold', fontsize=fs+4, style='italic', transform=ax[1,1].transAxes )\n",
    "ax[1,1].set_xlabel( r'Precipitation efficiency $\\varepsilon_p$ [-]', fontsize=fs )\n",
    "\n",
    "for a in ax.flatten():\n",
    "    a.set_xscale( 'log' )\n",
    "    a.tick_params( 'both', labelsize=fs )\n",
    "    a.tick_params( 'y', rotation=45 )\n",
    "    a.spines['top'].set_visible(False)\n",
    "    a.spines['right'].set_visible(False)\n",
    "    a.set_xlim([10**(-3.5),1])\n",
    "\n",
    "fig.savefig( '/groups/sylvia/JAS-MCS-rain/figures/S6-precipeff-others.pdf', bbox_inches='tight' )\n",
    "plt.show()"
   ]
  },
  {
   "cell_type": "markdown",
   "id": "18523002",
   "metadata": {},
   "source": [
    "## Calculate correlations of precipitation efficiency with different conditions"
   ]
  },
  {
   "cell_type": "code",
   "execution_count": 14,
   "id": "7aff966b",
   "metadata": {},
   "outputs": [],
   "source": [
    "# Thermodynamic parameters - how strong is correlation with these?\n",
    "# Do not filter for tropical lat/lon yet. That is done below.\n",
    "t2m_array = nc_open_compile(file_years,\"t2m\")\n",
    "t2m_ERA = negative_to_nan(t2m_array)[tropical_up_indx]\n",
    "dpt_array = nc_open_compile(file_years,\"dpt\")\n",
    "dpt_ERA = negative_to_nan(dpt_array)[tropical_up_indx]\n",
    "sst_array = nc_open_compile(file_years,\"sst\")\n",
    "sst_ERA = negative_to_nan(sst_array)[tropical_up_indx]"
   ]
  },
  {
   "cell_type": "code",
   "execution_count": 15,
   "id": "c07952d1",
   "metadata": {},
   "outputs": [],
   "source": [
    "# CAPE and integrated mass flux - how strong is correlation with these?\n",
    "cape_array = nc_open_compile(file_years,\"cape\")\n",
    "cape_ERA = negative_to_nan(cape_array)[tropical_up_indx]\n",
    "capepre_array = nc_open_compile(file_years,\"capepre\")\n",
    "capepre_ERA = negative_to_nan(capepre_array)[tropical_up_indx]\n",
    "capepre6_array = nc_open_compile(file_years,\"capepre6\")\n",
    "capepre6_ERA = negative_to_nan(capepre6_array)[tropical_up_indx]\n",
    "omega_array = nc_open_compile(file_years,\"omega\",\"stack\")\n",
    "omega_ERA = positive_to_nan(omega_array)[tropical_up_indx]\n",
    "#omegaint_ERA = np.cumsum( rho*w_ERA, axis=1 )*1000 # [g m-2]\n",
    "#print(omegaint_ERA.shape)\n",
    "#omegaint_ERA = omegaint_ERA[:,-1]\n",
    "#print(omegaint_ERA.shape)"
   ]
  },
  {
   "cell_type": "code",
   "execution_count": 120,
   "id": "1a0055ed",
   "metadata": {},
   "outputs": [
    {
     "name": "stdout",
     "output_type": "stream",
     "text": [
      "Correlation of precip efficiency with storm morphology parameters\n",
      "(0.14375467306347212, 2.360158939359827e-128)\n",
      "(0.0651042685157914, 3.530743736696998e-27)\n",
      "(0.0574094156690236, 1.3439981637056307e-22)\n",
      "(-0.0336623976425557, 1.2822349005831719e-08)\n",
      "(0.03936595657852139, 4.078378120417973e-11)\n",
      "~~~~~~~~~~~~~~~~~~~~~~~~~~~~~~~~~~~~~~~~\n",
      "Correlation of precip efficiency with LWP versus IWP\n",
      "(0.043030777804594515, 3.467525023297834e-13)\n",
      "(0.02472226615206962, 2.624388599517965e-05)\n",
      "~~~~~~~~~~~~~~~~~~~~~~~~~~~~~~~~~~~~~~~~\n",
      "Correlation of precip efficiency with various surface temperatures\n",
      "(-0.025177558345937743, 1.8595280400510198e-05)\n",
      "(0.012481061625921122, 0.07019295558502237)\n",
      "(0.04404085883147206, 6.270793233765703e-14)\n",
      "~~~~~~~~~~~~~~~~~~~~~~~~~~~~~~~~~~~~~~~~\n",
      "Correlation of precip efficiency with CAPE\n",
      "(0.01636898226480419, 0.011622303716186463)\n",
      "(0.009608324567587676, 0.15499328994228562)\n",
      "(-0.002585880409806865, 0.6939559064354525)\n",
      "~~~~~~~~~~~~~~~~~~~~~~~~~~~~~~~~~~~~~~~~\n",
      "Correlation of precip efficiency with SD\n",
      "(-0.10262446743464289, 6.099347418765355e-68)\n",
      "(-0.1108575419920498, 4.194686137591388e-79)\n",
      "~~~~~~~~~~~~~~~~~~~~~~~~~~~~~~~~~~~~~~~~\n",
      "Correlation of precip efficiency with qc/qi at different levels\n",
      "40613.28125 (0.038837811391597206, 4.825185508334239e-11)\n",
      "44300.860595703125 (0.028069522038095547, 1.8874607077244362e-06)\n",
      "48079.071044921875 (0.020982053014681104, 0.00036553690254838164)\n",
      "51920.928955078125 (0.022959151438538432, 9.666816023249241e-05)\n",
      "55797.3388671875 (0.0011221401646677896, 0.8487687759856544)\n",
      "59677.740478515625 (-0.019712387387685004, 0.0007998353420363926)\n",
      "63530.60302734375 (-0.027298238259668962, 3.422360275074704e-06)\n",
      "67324.02954101562 (-0.02510417069088089, 1.9863090166588852e-05)\n",
      "71026.26953125 (-0.022238504268648682, 0.0001599508469281863)\n",
      "74606.34765625 (-0.009195771579453487, 0.11941580779459221)\n",
      "78034.55200195312 (0.012287470252286273, 0.037938796075857976)\n",
      "81283.0322265625 (0.026924090441242606, 5.764879597536717e-06)\n",
      "84326.3427734375 (0.02933177544991762, 8.190910757580096e-07)\n",
      "87142.02880859375 (0.01757242668548812, 0.0032214989945242817)\n",
      "89711.181640625 (0.02761328477224196, 3.7658901045922555e-06)\n",
      "92018.92700195312 (0.042003114554561405, 2.110458499396028e-12)\n",
      "94055.10864257812 (0.052305975400880736, 3.459759644299997e-18)\n",
      "95814.7705078125 (0.03233209974742013, 2.6992879864996863e-07)\n",
      "97298.681640625 (0.020900348251016648, 0.0018653224555915265)\n",
      "98513.9892578125 (0.010657773830878601, 0.19387025227571705)\n",
      "99474.71923828125 (0.004221213361223724, 0.6541404027959382)\n",
      "100202.36206054688 (-0.00823718482686317, 0.40200596844141717)\n",
      "~~~~~~~~~~~~~~~~~~~~~~~~~~~~~~~~~~~~~~~~\n",
      "Correlation of precip efficiency with omega at different levels\n",
      "40613.28125 (-0.10935679692579647, 4.09573502055004e-77)\n",
      "44300.860595703125 (-0.13003830049125908, 1.1009726980397517e-108)\n",
      "48079.071044921875 (-0.1446901720967512, 7.877319719241046e-135)\n",
      "51920.928955078125 (-0.15575927783550453, 1.474341554348747e-156)\n",
      "55797.3388671875 (-0.16482612870639318, 1.0968498661079957e-175)\n",
      "59677.740478515625 (-0.171966500440984, 1.483961464610474e-191)\n",
      "63530.60302734375 (-0.18094894936902273, 3.096775896900717e-212)\n",
      "67324.02954101562 (-0.18508670948211833, 4.9900976990815714e-222)\n",
      "71026.26953125 (-0.18030494798464852, 2.0790765139799727e-210)\n",
      "74606.34765625 (-0.17210930971803745, 2.7139120659960748e-191)\n",
      "78034.55200195312 (-0.1638167358241596, 6.036326065242907e-173)\n",
      "81283.0322265625 (-0.15935459845548589, 2.7962999183549955e-163)\n",
      "84326.3427734375 (-0.1546668035121217, 2.3792766817520237e-153)\n",
      "87142.02880859375 (-0.14800194985762805, 5.90617176442882e-140)\n",
      "89711.181640625 (-0.13984754984296893, 7.850317551157235e-125)\n",
      "92018.92700195312 (-0.13051994622167284, 1.6686442525804611e-108)\n",
      "94055.10864257812 (-0.11840676973256561, 2.4468094317244216e-89)\n",
      "95814.7705078125 (-0.10144385530621677, 8.454874300513594e-66)\n",
      "97298.681640625 (-0.0844568165471009, 4.565264386058282e-46)\n",
      "98513.9892578125 (-0.06684297190087299, 1.9540970047529255e-29)\n",
      "99474.71923828125 (-0.04950546602184122, 7.324288353457308e-17)\n",
      "100202.36206054688 (-0.03150634088232178, 1.1048864401857593e-07)\n"
     ]
    }
   ],
   "source": [
    "print('Correlation of precip efficiency with storm morphology parameters')\n",
    "for var in [ rad_ERA, maxrad_ERA, ctt_ERA, minctt_ERA, lifetime_ERA ]:\n",
    "    print( pe_cc( var, peff_ERA) )\n",
    "\n",
    "print('~~~~~~~~~~~~~~~~~~~~~~~~~~~~~~~~~~~~~~~~')\n",
    "print('Correlation of precip efficiency with LWP versus IWP')\n",
    "for var in [ LWP_ERA, IWP_ERA ]:\n",
    "    print( pe_cc( var, peff_ERA) )\n",
    "    \n",
    "print('~~~~~~~~~~~~~~~~~~~~~~~~~~~~~~~~~~~~~~~~')\n",
    "print('Correlation of precip efficiency with various surface temperatures')\n",
    "for var in [ t2m_ERA, sst_ERA, dpt_ERA ]:\n",
    "    print( pe_cc( var, peff_ERA) )\n",
    "\n",
    "print('~~~~~~~~~~~~~~~~~~~~~~~~~~~~~~~~~~~~~~~~')\n",
    "print('Correlation of precip efficiency with CAPE')\n",
    "for var in [ cape_ERA, capepre_ERA, capepre6_ERA ]:\n",
    "    print( pe_cc( np.sqrt(var), peff_ERA) )\n",
    "\n",
    "print('~~~~~~~~~~~~~~~~~~~~~~~~~~~~~~~~~~~~~~~~')\n",
    "print('Correlation of precip efficiency with SD')\n",
    "for var in [ sd_ERA, sdpre_ERA ]:\n",
    "    print( pe_cc( var, peff_ERA) )\n",
    "\n",
    "print('~~~~~~~~~~~~~~~~~~~~~~~~~~~~~~~~~~~~~~~~')\n",
    "print('Correlation of precip efficiency with qc/qi at different levels')\n",
    "for j in np.arange( 10, 32 ):\n",
    "    print( plev_ERA[j], pe_cc( qc_ERA[:,j], peff_ERA ) )\n",
    "\n",
    "print('~~~~~~~~~~~~~~~~~~~~~~~~~~~~~~~~~~~~~~~~')\n",
    "print('Correlation of precip efficiency with omega at different levels')\n",
    "for j in np.arange( 10, 32 ):\n",
    "    print( plev_ERA[j], pe_cc( -1.*omega_ERA[:,j], peff_ERA ) )\n"
   ]
  },
  {
   "cell_type": "code",
   "execution_count": null,
   "id": "91ab9e2a",
   "metadata": {},
   "outputs": [],
   "source": []
  }
 ],
 "metadata": {
  "kernelspec": {
   "display_name": "ncplot",
   "language": "python",
   "name": "ncplot"
  },
  "language_info": {
   "codemirror_mode": {
    "name": "ipython",
    "version": 3
   },
   "file_extension": ".py",
   "mimetype": "text/x-python",
   "name": "python",
   "nbconvert_exporter": "python",
   "pygments_lexer": "ipython3",
   "version": "3.7.16"
  }
 },
 "nbformat": 4,
 "nbformat_minor": 5
}
