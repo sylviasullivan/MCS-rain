{
 "cells": [
  {
   "cell_type": "markdown",
   "id": "3e41a253",
   "metadata": {},
   "source": [
    "### This notebook generates the precipitation efficiency distribution for MCSs in the reanalysis-convective tracking data. First import libraries and constants."
   ]
  },
  {
   "cell_type": "code",
   "execution_count": 1,
   "id": "16938555",
   "metadata": {},
   "outputs": [],
   "source": [
    "import numpy as np\n",
    "import scipy as sp\n",
    "import xarray as xr\n",
    "import matplotlib.pyplot as plt\n",
    "import pandas as pd\n",
    "import warnings\n",
    "import numpy.ma as ma\n",
    "import seaborn as sns\n",
    "import scipy.optimize\n",
    "from scipy.stats import pearsonr, zscore\n",
    "from matplotlib import cm\n",
    "from numpy import unravel_index\n",
    "\n",
    "plt.rcParams.update({'font.size': 12})\n",
    "\n",
    "warnings.filterwarnings(action='ignore')\n",
    "\n",
    "from plotting_utilities import *\n",
    "from thermodynamic_functions import *"
   ]
  },
  {
   "cell_type": "code",
   "execution_count": 2,
   "id": "d5e4f44a",
   "metadata": {},
   "outputs": [],
   "source": [
    "g = 9.8 # gravitational acceleration [m s-2]\n",
    "rho_air = 1.395 # density of air (kg m-3)\n",
    "rho_water = 1000 #density of water (kg m-3)\n",
    "eps = 0.01802/0.02897 # ratio of MW_water to MW_air"
   ]
  },
  {
   "cell_type": "code",
   "execution_count": 3,
   "id": "c0e79ed6",
   "metadata": {},
   "outputs": [
    {
     "name": "stdout",
     "output_type": "stream",
     "text": [
      "-56.0\n",
      "56.0\n",
      "(695667,)\n"
     ]
    }
   ],
   "source": [
    "# array of years\n",
    "years = np.arange( 1983, 2008 )\n",
    "\n",
    "# create list of file names\n",
    "file_years = file_concatenator(years)\n",
    "\n",
    "# Are we only looking at tropical MCSs?\n",
    "minlat_array = nc_open_compile(file_years,\"min latitude\")\n",
    "print(np.nanmin(minlat_array))\n",
    "maxlat_array = nc_open_compile(file_years,\"max latitude\")\n",
    "print(np.nanmax(maxlat_array))\n",
    "tropical_indx = np.argwhere( (minlat_array >= -30) & (maxlat_array <= 30) )[:,0]\n",
    "print(tropical_indx.shape)\n",
    "\n",
    "# applying same for MCS lifetime and morphology\n",
    "lifetime_array = nc_open_compile(file_years,\"lifetime\")\n",
    "lifetime_ERAI = negative_to_nan(lifetime_array)[tropical_indx]\n",
    "maxrad_array = nc_open_compile(file_years,\"maxrad\")\n",
    "maxrad_ERAI = negative_to_nan(maxrad_array)[tropical_indx]\n",
    "minctt_array = nc_open_compile(file_years,\"minctt\")\n",
    "minctt_ERAI = negative_to_nan(minctt_array)[tropical_indx]\n",
    "\n",
    "# In reading in pmax, I do not yet filter for tropical lat/lon. That is done below.\n",
    "pmax_array = nc_open_compile(file_years,\"pmax\")\n",
    "pmax_ERAI = negative_to_nan(pmax_array)"
   ]
  },
  {
   "cell_type": "code",
   "execution_count": 4,
   "id": "eefb9ce6",
   "metadata": {},
   "outputs": [],
   "source": [
    "#pressure level values converted into double point precision\n",
    "#factor of 100 converts hPa to Pa. we want to use SI units exclusively below.\n",
    "plev_ERAI = np.double((xr.open_dataset(file_years[0])).pressure.data)*100\n",
    "\n",
    "# calculate the saturation vapor mixing ratio, Curry & Webster (4.37)\n",
    "# In this calculation, I do not yet filter for tropical lat/lon. That is done below.\n",
    "temp_ERAI = nc_open_compile( file_years, \"temperature\", 'stack' )\n",
    "qvsat_ERAI = eps * satVapP_liq(temp_ERAI) / ( plev_ERAI - satVapP_liq(temp_ERAI) )"
   ]
  },
  {
   "cell_type": "code",
   "execution_count": 5,
   "id": "158308b6",
   "metadata": {},
   "outputs": [],
   "source": [
    "# as in Singh et al. 2017 we calculate saturation deficit as the arithmetic mean\n",
    "# between its values at 850, 700, and 550 hPa\n",
    "qv_array = nc_open_compile( file_years, \"qv\", 'stack' )\n",
    "qv_ERAI = negative_to_nan(qv_array)\n",
    "qvpre_array = nc_open_compile( file_years, \"qvpre\", 'stack' )\n",
    "qvpre_ERAI = negative_to_nan(qvpre_array)\n",
    "\n",
    "i = np.argmin( np.abs(plev_ERAI - 85000) )\n",
    "sd850_ERAI = (qvsat_ERAI[:,i] - qv_ERAI[:,i])*1000   # 1000 converts [kg kg-1] to [g kg-1]\n",
    "sd850pre_ERAI = (qvsat_ERAI[:,i] - qvpre_ERAI[:,i])*1000\n",
    "i = np.argmin( np.abs(plev_ERAI - 70000) )\n",
    "sd700_ERAI = (qvsat_ERAI[:,i] - qv_ERAI[:,i])*1000\n",
    "sd700pre_ERAI = (qvsat_ERAI[:,i] - qvpre_ERAI[:,i])*100\n",
    "i = np.argmin( np.abs(plev_ERAI - 55000) )\n",
    "sd550_ERAI = (qvsat_ERAI[:,i] - qv_ERAI[:,i])*1000\n",
    "sd550pre_ERAI = (qvsat_ERAI[:,i] - qvpre_ERAI[:,i])*1000\n",
    "\n",
    "sd_ERAI = (sd850_ERAI + sd700_ERAI + sd550_ERAI)/3\n",
    "sdpre_ERAI = (sd850pre_ERAI + sd700pre_ERAI + sd550pre_ERAI)/3"
   ]
  },
  {
   "cell_type": "markdown",
   "id": "ea462c02",
   "metadata": {},
   "source": [
    "### Precipitation efficiency from integrated condensation rate scaling"
   ]
  },
  {
   "cell_type": "code",
   "execution_count": 14,
   "id": "5f4c1135",
   "metadata": {},
   "outputs": [
    {
     "name": "stdout",
     "output_type": "stream",
     "text": [
      "39382\n",
      "-0.00034307661048427716 0.02440252914167579 0.02702560821009777 1.1008421073960388\n",
      "-2.2184872679419456 0.06956274268330907 3.848225560481694\n"
     ]
    }
   ],
   "source": [
    "# Calculate the gradient with respect to pressure of the saturation vapor mixing ratio\n",
    "p_ERAI = (xr.open_dataset(file_years[0])).pressure.data*100. # converting hPa -> Pa\n",
    "dqvsat_dp_ERAI = np.gradient( qvsat_ERAI, p_ERAI, axis=1 )\n",
    "\n",
    "# Multiply the gradient with respect to pressure by pressure velocity\n",
    "omega_array = nc_open_compile(file_years,\"omega\",'stack')\n",
    "ii = np.argwhere( np.all(omega_array < 0, axis=1) & (minlat_array >= -30) & (maxlat_array <= 30) )\n",
    "print(len(ii))\n",
    "omega_ERAI = omega_array[ii[:,0]]\n",
    "#omega_ERAI = positive_to_nan(omega_array)[tropical_indx]\n",
    "integrand = 100*omega_ERAI * dqvsat_dp_ERAI[ii[:,0]] / g\n",
    "\n",
    "# Determine integration bounds on the basis of the cold-point tropopause\n",
    "tempmean_ERAI = np.nanmean( temp_ERAI, axis=0 )\n",
    "\n",
    "# Integrate the condensation rate over the pressures\n",
    "cond_rate_ERAI = np.trapz( x=p_ERAI[:-1], y=-1.*integrand[:,:-1] )\n",
    "print( np.nanmin(cond_rate_ERAI), np.nanmedian(cond_rate_ERAI), np.nanmean(cond_rate_ERAI), np.nanmax(cond_rate_ERAI) )\n",
    "peff_ERAI = pmax_ERAI[ii[:,0]] / 3600 / cond_rate_ERAI\n",
    "print( np.nanmin(peff_ERAI), np.nanmedian(peff_ERAI), np.nanmax(peff_ERAI) )"
   ]
  },
  {
   "cell_type": "code",
   "execution_count": 15,
   "id": "7aff966b",
   "metadata": {},
   "outputs": [],
   "source": [
    "# Thermodynamic parameters - how strong is correlation with these?\n",
    "# Do not filter for tropical lat/lon yet. That is done below.\n",
    "t2m_array = nc_open_compile(file_years,\"t2m\")\n",
    "t2m_ERAI = negative_to_nan(t2m_array)\n",
    "dpt_array = nc_open_compile(file_years,\"dpt\")\n",
    "dpt_ERAI = negative_to_nan(dpt_array)\n",
    "sst_array = nc_open_compile(file_years,\"sst\")\n",
    "sst_ERAI = negative_to_nan(sst_array)"
   ]
  },
  {
   "cell_type": "code",
   "execution_count": 16,
   "id": "56b399f9",
   "metadata": {},
   "outputs": [],
   "source": [
    "# Storm morphology parameters - how strong is correlation with these?\n",
    "# Do not filter for tropical lat/lon yet. That is done below.\n",
    "rad_array = nc_open_compile(file_years,\"rad\")\n",
    "rad_ERAI = negative_to_nan(rad_array)\n",
    "ctt_array = nc_open_compile(file_years,\"ctt\")\n",
    "ctt_ERAI = negative_to_nan(ctt_array)\n",
    "maxrad_array = nc_open_compile(file_years,\"maxrad\")\n",
    "maxrad_ERAI = negative_to_nan(maxrad_array)\n",
    "minctt_array = nc_open_compile(file_years,\"minctt\")\n",
    "minctt_ERAI = negative_to_nan(minctt_array)\n",
    "lifetime_array = nc_open_compile(file_years,\"lifetime\")\n",
    "lifetime_ERAI = negative_to_nan(lifetime_array)"
   ]
  },
  {
   "cell_type": "code",
   "execution_count": 17,
   "id": "869d36d3",
   "metadata": {},
   "outputs": [],
   "source": [
    "# Integrated amounts of cloud condensate - how strong is correlation with these?\n",
    "# Do not filter for tropical lat/lon yet. That is done below.\n",
    "qi_array = nc_open_compile(file_years,\"qi\",\"stack\")\n",
    "qi_ERAI = negative_to_nan(qi_array)\n",
    "IWP_ERAI = np.cumsum( rho_water*qi_ERAI, axis=1 )*1000 # [g m-2]\n",
    "IWP_ERAI = IWP_ERAI[:,-1]\n",
    "qc_array = nc_open_compile(file_years,\"qc\",\"stack\")\n",
    "qc_ERAI = negative_to_nan(qc_array)\n",
    "LWP_ERAI = np.cumsum( rho_water*qc_ERAI, axis=1 )*1000 # [g m-2]\n",
    "LWP_ERAI = LWP_ERAI[:,-1]\n",
    "\n",
    "# CAPE and integrated mass flux - how strong is correlation with these?\n",
    "cape_array = nc_open_compile(file_years,\"cape\")\n",
    "cape_ERAI = negative_to_nan(cape_array)\n",
    "capepre_array = nc_open_compile(file_years,\"capepre\")\n",
    "capepre_ERAI = negative_to_nan(capepre_array)\n",
    "capepre6_array = nc_open_compile(file_years,\"capepre6\")\n",
    "capepre6_ERAI = negative_to_nan(capepre6_array)\n",
    "omega_array = nc_open_compile(file_years,\"omega\",\"stack\")\n",
    "omega_ERAI = positive_to_nan(omega_array)\n",
    "#omegaint_ERAI = np.cumsum( rho*w_ERAI, axis=1 )*1000 # [g m-2]\n",
    "#print(omegaint_ERAI.shape)\n",
    "#omegaint_ERAI = omegaint_ERAI[:,-1]\n",
    "#print(omegaint_ERAI.shape)"
   ]
  },
  {
   "cell_type": "code",
   "execution_count": 18,
   "id": "1a0055ed",
   "metadata": {},
   "outputs": [
    {
     "name": "stdout",
     "output_type": "stream",
     "text": [
      "Correlation of precip efficiency with storm morphology parameters\n",
      "(0.1481973398970044, 2.7284478113595437e-183)\n",
      "(0.06687014396681763, 7.456971819824577e-38)\n",
      "(0.05123668459474188, 3.7621584813909334e-24)\n",
      "(-0.04087727428559208, 9.050217177964265e-16)\n",
      "(0.043419378888829976, 3.0592968983113423e-17)\n",
      "~~~~~~~~~~~~~~~~~~~~~~~~~~~~~~~~~~~~~~~~\n",
      "Correlation of precip efficiency with LWP versus IWP\n",
      "(0.0540682312198464, 7.003158031112211e-07)\n",
      "(0.040215289593114475, 5.9598094910693346e-05)\n",
      "~~~~~~~~~~~~~~~~~~~~~~~~~~~~~~~~~~~~~~~~\n",
      "Correlation of precip efficiency with various surface temperatures\n",
      "(-0.011148950677772999, 0.027859893566007286)\n",
      "(0.01139614980444515, 0.0529231867422665)\n",
      "(0.06323500925614536, 3.9948078900782984e-36)\n",
      "~~~~~~~~~~~~~~~~~~~~~~~~~~~~~~~~~~~~~~~~\n",
      "Correlation of precip efficiency with CAPE\n",
      "(0.022554840206151637, 5.85141220363899e-05)\n",
      "(0.014463410941476434, 0.013044418826081677)\n",
      "(0.007754083426351408, 0.1709184326003561)\n",
      "Correlation of precip efficiency with SD\n",
      "(-0.11090739772423812, 1.2766800175257905e-99)\n",
      "(-0.10456286533066987, 1.3126553705294427e-86)\n",
      "~~~~~~~~~~~~~~~~~~~~~~~~~~~~~~~~~~~~~~~~\n"
     ]
    }
   ],
   "source": [
    "print('Correlation of precip efficiency with storm morphology parameters')\n",
    "for var in [ rad_ERAI, maxrad_ERAI, ctt_ERAI, minctt_ERAI, lifetime_ERAI ]:\n",
    "    print( pe_cc( var, ii, peff_ERAI) )\n",
    "\n",
    "print('~~~~~~~~~~~~~~~~~~~~~~~~~~~~~~~~~~~~~~~~')\n",
    "print('Correlation of precip efficiency with LWP versus IWP')\n",
    "for var in [ LWP_ERAI, IWP_ERAI ]:\n",
    "    print( pe_cc( var, ii, peff_ERAI) )\n",
    "    \n",
    "print('~~~~~~~~~~~~~~~~~~~~~~~~~~~~~~~~~~~~~~~~')\n",
    "print('Correlation of precip efficiency with various surface temperatures')\n",
    "for var in [ t2m_ERAI, sst_ERAI, dpt_ERAI ]:\n",
    "    print( pe_cc( var, ii, peff_ERAI) )\n",
    "\n",
    "print('~~~~~~~~~~~~~~~~~~~~~~~~~~~~~~~~~~~~~~~~')\n",
    "print('Correlation of precip efficiency with CAPE')\n",
    "for var in [ cape_ERAI, capepre_ERAI, capepre6_ERAI ]:\n",
    "    print( pe_cc( np.sqrt(var), ii, peff_ERAI) )\n",
    "\n",
    "print('Correlation of precip efficiency with SD')\n",
    "for var in [ sd_ERAI, sdpre_ERAI ]:\n",
    "    print( pe_cc( np.sqrt(var), ii, peff_ERAI) )\n",
    "\n",
    "print('~~~~~~~~~~~~~~~~~~~~~~~~~~~~~~~~~~~~~~~~')\n",
    "#for j in np.arange( omega_ERAI.shape[1] ):\n",
    "#    print( plev_ERAI[j] )\n",
    "#    print( pe_cc( -1.*omega_ERAI[:,j] ,ii, peff_ERAI ) )"
   ]
  },
  {
   "cell_type": "code",
   "execution_count": 19,
   "id": "0b99b105",
   "metadata": {},
   "outputs": [
    {
     "name": "stdout",
     "output_type": "stream",
     "text": [
      "Statistics of precipitation efficiency:\n",
      "0.7117047008836426\n",
      "3.848225560481694\n",
      "0.06956274268330907\n",
      "0.11745539077276183\n"
     ]
    }
   ],
   "source": [
    "print('Statistics of precipitation efficiency:')\n",
    "print(np.percentile( peff_ERAI, 99 ))\n",
    "print(np.nanmax( peff_ERAI ))\n",
    "print(np.nanmedian( peff_ERAI))\n",
    "print(np.nanmean( peff_ERAI))"
   ]
  },
  {
   "cell_type": "code",
   "execution_count": 20,
   "id": "da1111ee",
   "metadata": {},
   "outputs": [],
   "source": [
    "lifetime_ERAI = lifetime_ERAI[ii[:,0]]\n",
    "rad_ERAI = rad_ERAI[ii[:,0]]\n",
    "minctt_ERAI = minctt_ERAI[ii[:,0]]"
   ]
  },
  {
   "cell_type": "code",
   "execution_count": 21,
   "id": "b362920c",
   "metadata": {
    "scrolled": true
   },
   "outputs": [
    {
     "data": {
      "image/png": "[encoded data removed]",
      "text/plain": [
       "<Figure size 1300x350 with 3 Axes>"
      ]
     },
     "metadata": {},
     "output_type": "display_data"
    }
   ],
   "source": [
    "fs = 18\n",
    "fig, ax = plt.subplots( 1, 3, figsize =(13, 3.5) )\n",
    "\n",
    "wgts = np.ones_like( peff_ERAI )/float( len( peff_ERAI ) )*100\n",
    "edges, h = np.histogram( peff_ERAI, weights=wgts, bins=np.logspace(-3.5,0,35) )\n",
    "\n",
    "wgts2 = np.ones_like( peff_ERAI[rad_ERAI > 150] )/float( len( peff_ERAI[rad_ERAI > 150] ) )*100\n",
    "edges2, h2 = np.histogram( peff_ERAI[rad_ERAI > 150], weights=wgts2, bins=np.logspace(-3.5,0,35) )\n",
    "\n",
    "wgts3 = np.ones_like( peff_ERAI[rad_ERAI <= 110] )/float( len( peff_ERAI[rad_ERAI <= 110] ) )*100\n",
    "edges3, h3 = np.histogram( peff_ERAI[rad_ERAI <= 110], weights=wgts3, bins=np.logspace(-3.5,0,35) )\n",
    "\n",
    "wgts4 = np.ones_like( peff_ERAI[minctt_ERAI > 205] )/float( len( peff_ERAI[minctt_ERAI > 205] ) )*100\n",
    "edges4, h4 = np.histogram( peff_ERAI[minctt_ERAI > 205], weights=wgts4, bins=np.logspace(-3.5,0,35) )\n",
    "\n",
    "wgts5 = np.ones_like( peff_ERAI[minctt_ERAI <= 185] )/float( len( peff_ERAI[minctt_ERAI <= 185] ) )*100\n",
    "edges5, h5 = np.histogram( peff_ERAI[minctt_ERAI <= 185], weights=wgts5, bins=np.logspace(-3.5,0,35) )\n",
    "\n",
    "wgts6 = np.ones_like( peff_ERAI[lifetime_ERAI > 12] )/float( len( peff_ERAI[lifetime_ERAI > 12] ) )*100\n",
    "edges6, h6 = np.histogram( peff_ERAI[lifetime_ERAI > 12], weights=wgts6, bins=np.logspace(-3.5,0,35) )\n",
    "\n",
    "wgts7 = np.ones_like( peff_ERAI[lifetime_ERAI <= 3] )/float( len( peff_ERAI[lifetime_ERAI <= 3] ) )*100\n",
    "edges7, h7 = np.histogram( peff_ERAI[lifetime_ERAI <= 3], weights=wgts7, bins=np.logspace(-3.5,0,35) )\n",
    "    \n",
    "ax[0].stairs( edges, h, edgecolor='darkblue', lw=3 )\n",
    "ax[0].stairs( edges6, h6, edgecolor='pink', lw=2, alpha=0.8 )\n",
    "ax[0].stairs( edges7, h7, edgecolor='darkred', lw=2, alpha=0.8 )\n",
    "ax[0].plot( [np.nanmean(peff_ERAI), np.nanmean(peff_ERAI)], [0,10], color='darkblue', alpha=0.75 )\n",
    "ax[0].plot( [np.nanmean(peff_ERAI[lifetime_ERAI>12]), np.nanmean(peff_ERAI[lifetime_ERAI>12])], [0,10], color='pink', alpha=0.75 )\n",
    "ax[0].plot( [np.nanmean(peff_ERAI[lifetime_ERAI<=3]), np.nanmean(peff_ERAI[lifetime_ERAI<=3])], [0,10], color='darkred', alpha=0.75 )\n",
    "ax[0].set_ylabel( 'Probability [%]', fontsize=fs )\n",
    "ax[0].text( 0.05, 0.97, '(a)', weight='bold', fontsize=fs, transform=ax[0].transAxes )\n",
    "\n",
    "ax[1].stairs( edges, h, edgecolor='darkblue', lw=3 )\n",
    "ax[1].stairs( edges2, h2, edgecolor='darkorange', lw=2, alpha=0.8 )\n",
    "ax[1].stairs( edges3, h3, edgecolor='gold', lw=2, alpha=0.8 )\n",
    "ax[1].plot( [np.nanmean(peff_ERAI), np.nanmean(peff_ERAI)], [0,10], color='darkblue', alpha=0.75 )\n",
    "ax[1].plot( [np.nanmean(peff_ERAI[rad_ERAI>150]), np.nanmean(peff_ERAI[rad_ERAI>150])], [0,10], color='darkorange', alpha=0.75 )\n",
    "ax[1].plot( [np.nanmean(peff_ERAI[rad_ERAI<=110]), np.nanmean(peff_ERAI[rad_ERAI<=110])], [0,10], color='gold', alpha=0.75 )\n",
    "ax[1].text( 0.05, 0.97, '(b)', weight='bold', fontsize=fs, transform=ax[1].transAxes )\n",
    "\n",
    "ax[2].stairs( edges, h, edgecolor='darkblue', lw=3, alpha=0.8 )\n",
    "ax[2].stairs( edges4, h4, edgecolor='green', lw=2, alpha=0.8 )\n",
    "ax[2].stairs( edges5, h5, edgecolor='turquoise', lw=2, alpha=0.8 )\n",
    "ax[2].plot( [np.nanmean(peff_ERAI), np.nanmean(peff_ERAI)], [0,10], color='darkblue', alpha=0.5 )\n",
    "ax[2].plot( [np.nanmean(peff_ERAI[minctt_ERAI<=185]), np.nanmean(peff_ERAI[minctt_ERAI<=185])], [0,10], color='turquoise', alpha=0.75 )\n",
    "ax[2].plot( [np.nanmean(peff_ERAI[minctt_ERAI>205]), np.nanmean(peff_ERAI[minctt_ERAI>205])], [0,10], color='green', alpha=0.75 )\n",
    "ax[2].text( 0.05, 0.97, '(c)', weight='bold', fontsize=fs, transform=ax[2].transAxes )\n",
    "\n",
    "for a in ax:\n",
    "    a.set_xlabel( r'Precip efficiency $\\varepsilon_p$ [-]', fontsize=fs )\n",
    "    a.set_xscale( 'log' )\n",
    "    a.spines['top'].set_visible(False)\n",
    "    a.spines['right'].set_visible(False)\n",
    "    a.tick_params( 'both', labelsize=18 )\n",
    "    a.tick_params( 'y', rotation=45 )\n",
    "    a.set_ylim([0,10.5])\n",
    "    a.set_xlim([10**(-3.5),1])\n",
    "    a.set_xticks([10**(-3), 10**(-2), 10**(-1), 1])\n",
    "    a.set_xticklabels([r'10$^{-3}$', r'10$^{-2}$', r'10$^{-1}$', '1'])\n",
    "\n",
    "#fig.savefig( '/groups/sylvia/JAS-MCS-rain/figures/precipeff-ERAI.pdf', bbox_inches='tight' )\n",
    "plt.show()"
   ]
  },
  {
   "cell_type": "code",
   "execution_count": null,
   "id": "c07952d1",
   "metadata": {},
   "outputs": [],
   "source": []
  }
 ],
 "metadata": {
  "kernelspec": {
   "display_name": "ncplot",
   "language": "python",
   "name": "ncplot"
  },
  "language_info": {
   "codemirror_mode": {
    "name": "ipython",
    "version": 3
   },
   "file_extension": ".py",
   "mimetype": "text/x-python",
   "name": "python",
   "nbconvert_exporter": "python",
   "pygments_lexer": "ipython3",
   "version": "3.7.16"
  }
 },
 "nbformat": 4,
 "nbformat_minor": 5
}
