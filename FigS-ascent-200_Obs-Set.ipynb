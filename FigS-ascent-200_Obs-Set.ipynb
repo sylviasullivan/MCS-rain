{
 "cells": [
  {
   "cell_type": "code",
   "execution_count": 1,
   "id": "868c33aa",
   "metadata": {},
   "outputs": [],
   "source": [
    "import numpy as np\n",
    "import scipy as sp\n",
    "import xarray as xr\n",
    "import matplotlib.pyplot as plt\n",
    "import pandas as pd\n",
    "import warnings\n",
    "import numpy.ma as ma\n",
    "import seaborn as sns\n",
    "import scipy.optimize\n",
    "from matplotlib import cm\n",
    "from numpy import unravel_index\n",
    "from scipy.stats import ks_2samp\n",
    "\n",
    "plt.rcParams.update({'font.size': 12})\n",
    "\n",
    "warnings.filterwarnings(action='ignore')\n",
    "\n",
    "from plotting_utilities import *\n",
    "from thermodynamic_functions import *"
   ]
  },
  {
   "cell_type": "code",
   "execution_count": 2,
   "id": "7f55f4ec",
   "metadata": {},
   "outputs": [],
   "source": [
    "g = 9.8 # gravitational acceleration [m s-2]\n",
    "rho_air = 1.395 # density of air (kg m-3)\n",
    "rho_water = 1000 #density of water (kg m-3)\n",
    "eps = 0.01802/0.02897 # ratio of MW_water to MW_air"
   ]
  },
  {
   "cell_type": "code",
   "execution_count": 7,
   "id": "9d5ac67e",
   "metadata": {},
   "outputs": [
    {
     "name": "stdout",
     "output_type": "stream",
     "text": [
      "(32869,)\n",
      "(32869,)\n"
     ]
    }
   ],
   "source": [
    "# array of years\n",
    "#years = np.arange( 1983, 2008 )\n",
    "years = np.arange( 2000, 2001 )\n",
    "\n",
    "# create list of file names\n",
    "#file_years = file_concatenator_ERAI(years)\n",
    "file_years = file_concatenator_ERA5(years)\n",
    "\n",
    "# Are we only looking at tropical MCSs?\n",
    "minlat_array = nc_open_compile(file_years,\"min latitude\").values\n",
    "maxlat_array = nc_open_compile(file_years,\"max latitude\").values\n",
    "cape_array = nc_open_compile(file_years,\"cape_mean\").values # SS 20250209 \"cape\" -> \"cape_mean\"\n",
    "\n",
    "tropical_indx = np.argwhere( (minlat_array >= -10) & (maxlat_array <= 10) & (cape_array > 10))[:,0]\n",
    "tropical_rain_indx = tropical_indx #np.argwhere( (minlat_array >= -10) & (maxlat_array <= 10) &\n",
    "                                  #(pmax_array >= np.percentile(pmax_array,75)) & (cape_array > 10) )[:,0]\n",
    "print(tropical_indx.shape)\n",
    "print(tropical_rain_indx.shape)\n",
    "\n",
    "# applying same for MCS lifetime and morphology\n",
    "lifetime_array = nc_open_compile(file_years,\"lifetime\")\n",
    "lifetime_ERA = negative_to_nan(lifetime_array)[tropical_rain_indx]\n",
    "rad_array = nc_open_compile(file_years,\"rad\")\n",
    "rad_ERA = negative_to_nan(rad_array)[tropical_rain_indx]\n",
    "ctt_array = nc_open_compile(file_years,\"ctt\")\n",
    "ctt_ERA = negative_to_nan(ctt_array)[tropical_rain_indx]\n",
    "rad_array = nc_open_compile(file_years,\"rad\")\n",
    "rad_ERA = negative_to_nan(rad_array)[tropical_rain_indx]\n",
    "minctt_array = nc_open_compile(file_years,\"minctt\")\n",
    "minctt_ERA = negative_to_nan(minctt_array)[tropical_rain_indx]\n",
    "cape_ERA = negative_to_nan(cape_array)[tropical_rain_indx]\n",
    "\n",
    "# Read in the vertical velocities\n",
    "omega_array = nc_open_compile(file_years,\"w_mean\",'stack')[tropical_rain_indx] # SS 20250209 \"omega\" -> \"w_mean\"\n",
    "# Extract the value around 200 hPa\n",
    "omega_ERA_mid = omega_array[:,4]\n",
    "# Filter for negative values of omega (ascent rates)\n",
    "omega_ERA_mid_n, cape_ERA_n = negative_vals( omega_ERA_mid, cape_ERA )"
   ]
  },
  {
   "cell_type": "code",
   "execution_count": 8,
   "id": "b3e152f4",
   "metadata": {},
   "outputs": [],
   "source": [
    "def scatter_hist(x, y, xbins, ybins, ax, ax_histx, ax_histy):\n",
    "    # no labels\n",
    "    ax_histx.tick_params(axis=\"x\", labelbottom=False)\n",
    "    ax_histy.tick_params(axis=\"y\", labelleft=False)\n",
    "\n",
    "    # the scatter plot:\n",
    "    h = ax.hist2d( x, y, bins=(xbins, ybins), cmap=cm.Blues )\n",
    "    wgts = np.ones_like(x)/float(len(x))*100\n",
    "    ax_histx.hist(x, bins=xbins, edgecolor='k', weights=wgts )\n",
    "    ax_histx.tick_params(axis='both', which='major', labelsize=font_size-5)\n",
    "    wgts = np.ones_like(y)/float(len(y))*100\n",
    "    ax_histy.hist(y, bins=ybins, edgecolor='k', weights=wgts, orientation='horizontal')\n",
    "    ax_histy.tick_params(axis='both', which='major', labelsize=font_size-5)\n",
    "    #ax_histy.set_yscale('log')\n",
    "    return h"
   ]
  },
  {
   "cell_type": "code",
   "execution_count": 9,
   "id": "b9dc4488",
   "metadata": {},
   "outputs": [],
   "source": [
    "_, rad_ERA_n = negative_vals( omega_ERA_mid, rad_ERA )\n",
    "_, minctt_ERA_n = negative_vals( omega_ERA_mid, minctt_ERA )\n",
    "_, lifetime_ERA_n = negative_vals( omega_ERA_mid, lifetime_ERA )\n",
    "_, ctt_ERA_n = negative_vals( omega_ERA_mid, ctt_ERA )\n",
    "ascent200_list = [ omega_ERA_mid_n, omega_ERA_mid_n[rad_ERA_n <= np.percentile(rad_ERA_n,25)],\n",
    "                    omega_ERA_mid_n[rad_ERA_n >= np.percentile(rad_ERA_n,75)],\n",
    "                    omega_ERA_mid_n[minctt_ERA_n <= np.percentile(minctt_ERA_n,25)],\n",
    "                    omega_ERA_mid_n[minctt_ERA_n >= np.percentile(minctt_ERA_n,75)],\n",
    "                    omega_ERA_mid_n[lifetime_ERA_n <= np.percentile(lifetime_ERA_n,25)],\n",
    "                    omega_ERA_mid_n[lifetime_ERA_n >= np.percentile(lifetime_ERA_n,75)] ]"
   ]
  },
  {
   "cell_type": "code",
   "execution_count": 11,
   "id": "adc3c047",
   "metadata": {},
   "outputs": [
    {
     "name": "stdout",
     "output_type": "stream",
     "text": [
      "0.09453941513436281 4.85462278457824e-41\n",
      "0.14069710488657472 4.119370605335168e-88\n",
      "0.23454111347395445 8.294078466327684e-157\n"
     ]
    }
   ],
   "source": [
    "# Are the histograms of omega_200^(-) statistically significantly different when stratifying for extent?\n",
    "i = np.argwhere( ~np.isnan(ascent200_list[0].values) )\n",
    "data1 = ascent200_list[0][i[:,0]]\n",
    "\n",
    "i = np.argwhere( ~np.isnan(ascent200_list[1].values) )\n",
    "data2 = ascent200_list[1][i[:,0]]\n",
    "\n",
    "i = np.argwhere( ~np.isnan(ascent200_list[2].values) )\n",
    "data3 = ascent200_list[2][i[:,0]]\n",
    "\n",
    "statistic, p_value = ks_2samp( data1, data2 )\n",
    "print( statistic, p_value )\n",
    "\n",
    "statistic, p_value = ks_2samp( data1, data3 )\n",
    "print( statistic, p_value )\n",
    "\n",
    "statistic, p_value = ks_2samp( data2, data3 )\n",
    "print( statistic, p_value )"
   ]
  },
  {
   "cell_type": "code",
   "execution_count": 15,
   "id": "c0511088",
   "metadata": {},
   "outputs": [
    {
     "name": "stdout",
     "output_type": "stream",
     "text": [
      "0.07267921994830362 1.649429349735706e-26\n",
      "0.04768309729145237 1.068638210379896e-10\n",
      "0.11977823634985661 1.2992716945888392e-43\n",
      "~~~~~~~~~~~~~~~~~~~~~~~~~~~~~~~~~~~~~\n",
      "0.019428031556752323 0.009681119788243327\n",
      "0.061573766496794136 2.153628996409066e-17\n",
      "0.08029142583820863 3.0357728301471223e-22\n"
     ]
    }
   ],
   "source": [
    "# Are the histograms of omega_550^(-) statistically significantly different when stratifying for depth or lifetime?\n",
    "i = np.argwhere( ~np.isnan(ascent200_list[0].values) )\n",
    "data1 = ascent200_list[0][i[:,0]]\n",
    "\n",
    "i = np.argwhere( ~np.isnan(ascent200_list[3].values) )\n",
    "data2 = ascent200_list[3][i[:,0]]\n",
    "\n",
    "i = np.argwhere( ~np.isnan(ascent200_list[4].values) )\n",
    "data3 = ascent200_list[4][i[:,0]]\n",
    "\n",
    "i = np.argwhere( ~np.isnan(ascent200_list[5].values) )\n",
    "data4 = ascent200_list[5][i[:,0]]\n",
    "\n",
    "i = np.argwhere( ~np.isnan(ascent200_list[6].values) )\n",
    "data5 = ascent200_list[6][i[:,0]]\n",
    "\n",
    "statistic, p_value = ks_2samp( data1, data2 )\n",
    "print( statistic, p_value )\n",
    "\n",
    "statistic, p_value = ks_2samp( data1, data3 )\n",
    "print( statistic, p_value )\n",
    "\n",
    "statistic, p_value = ks_2samp( data2, data3 )\n",
    "print( statistic, p_value )\n",
    "print('~~~~~~~~~~~~~~~~~~~~~~~~~~~~~~~~~~~~~')\n",
    "\n",
    "statistic, p_value = ks_2samp( data1, data4 )\n",
    "print( statistic, p_value )\n",
    "\n",
    "statistic, p_value = ks_2samp( data1, data5 )\n",
    "print( statistic, p_value )\n",
    "\n",
    "statistic, p_value = ks_2samp( data4, data5 )\n",
    "print( statistic, p_value )"
   ]
  },
  {
   "cell_type": "code",
   "execution_count": 18,
   "id": "7141d27e",
   "metadata": {},
   "outputs": [
    {
     "name": "stdout",
     "output_type": "stream",
     "text": [
      "0.41789838820695846\n",
      "0.4927671104669571\n",
      "0.2934617495536808\n"
     ]
    },
    {
     "data": {
      "image/png": "[encoded data removed]",
      "text/plain": [
       "<Figure size 450x400 with 1 Axes>"
      ]
     },
     "metadata": {},
     "output_type": "display_data"
    }
   ],
   "source": [
    "fig = plt.figure( figsize=(4.5,4), constrained_layout=True )\n",
    "font_size = 16\n",
    "fs = 16\n",
    "plt.rcParams.update({\n",
    "    'font.size':font_size,\n",
    "    'axes.labelsize':font_size,\n",
    "    'xtick.labelsize':font_size,\n",
    "    'ytick.labelsize':font_size,\n",
    "    'legend.fontsize':font_size,\n",
    "})\n",
    "\n",
    "farbe = [ 'darkblue', 'gold', 'darkorange', 'turquoise', 'lawngreen', 'pink', 'red' ]\n",
    "lw = 3.5\n",
    "for j in np.arange(3):\n",
    "    i = np.argwhere( ~np.isnan(ascent200_list[j].values) )\n",
    "    wgts = np.ones_like( ascent200_list[j][i[:,0]] ) / float(len( ascent200_list[j][i[:,0]] ))*100 \n",
    "    h, edges = np.histogram( ascent200_list[j][i[:,0]], weights=wgts, bins=np.logspace(-2,1,30) )\n",
    "    plt.stairs( h, edges, edgecolor=farbe[j], lw=lw )#, label=lbls[j][k] )\n",
    "    m = np.nanmean(ascent200_list[j][i[:,0]])\n",
    "    plt.plot( [m, m], [5, 7], color=farbe[j], lw=lw )\n",
    "    m = np.nanpercentile(ascent200_list[j][i[:,0]], 99)\n",
    "    print(m)\n",
    "    plt.plot( [m, m], [5, 7], color=farbe[j], lw=lw )\n",
    "        \n",
    "plt.gca().set_xscale( 'log' )\n",
    "plt.gca().set_xlim( [10**(-2),1] )\n",
    "plt.gca().set_xlabel( r'$\\omega_{200}^{(-)}$ [Pa s$^{-1}$]' )\n",
    "plt.gca().set_ylabel( 'Probability [%]' )\n",
    "plt.gca().set_yticks([5, 10])\n",
    "plt.gca().text( 0.1, 0.9, 'large', color='darkorange', fontsize=fs, transform=plt.gca().transAxes )\n",
    "plt.gca().text( 0.6, 0.9, 'all', color='darkblue', fontsize=fs, transform=plt.gca().transAxes )\n",
    "plt.gca().text( 0.8, 0.9, 'small', color='gold', fontsize=fs, transform=plt.gca().transAxes )\n",
    "\n",
    "\n",
    "plt.gca().spines['top'].set_visible( False )\n",
    "plt.gca().spines['right'].set_visible( False )\n",
    "for t in plt.gca().get_yticklabels():\n",
    "    t.set_rotation(45)\n",
    "\n",
    "plt.tight_layout()\n",
    "#\n",
    "\n",
    "fig.savefig( '/groups/sylvia/JAS-MCS-rain/figures/ascent-200-ERA.pdf', bbox_inches='tight' )\n",
    "plt.show()"
   ]
  },
  {
   "cell_type": "code",
   "execution_count": null,
   "id": "c6ef08c8",
   "metadata": {},
   "outputs": [],
   "source": []
  }
 ],
 "metadata": {
  "kernelspec": {
   "display_name": "ncplot",
   "language": "python",
   "name": "ncplot"
  },
  "language_info": {
   "codemirror_mode": {
    "name": "ipython",
    "version": 3
   },
   "file_extension": ".py",
   "mimetype": "text/x-python",
   "name": "python",
   "nbconvert_exporter": "python",
   "pygments_lexer": "ipython3",
   "version": "3.7.16"
  }
 },
 "nbformat": 4,
 "nbformat_minor": 5
}
